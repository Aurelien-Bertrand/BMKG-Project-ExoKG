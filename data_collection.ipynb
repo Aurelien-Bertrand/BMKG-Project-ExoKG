{
 "cells": [
  {
   "cell_type": "markdown",
   "source": [
    "# BMKG Project\n",
    "## Author: Aurélien Bertrand - I6256590\n",
    "\n",
    "This notebook is intended to retrieve the data from NASA's API and store them as CSV files."
   ],
   "metadata": {
    "collapsed": false
   },
   "id": "8f227df9aa2aefc0"
  },
  {
   "cell_type": "code",
   "outputs": [],
   "source": [
    "!pip install pyvo"
   ],
   "metadata": {
    "collapsed": false,
    "is_executing": true
   },
   "id": "739d62c5ea6bfb72",
   "execution_count": null
  },
  {
   "cell_type": "code",
   "execution_count": 1,
   "id": "initial_id",
   "metadata": {
    "collapsed": true,
    "ExecuteTime": {
     "end_time": "2024-03-29T14:09:34.254338Z",
     "start_time": "2024-03-29T14:09:33.305919Z"
    }
   },
   "outputs": [
    {
     "name": "stdout",
     "output_type": "stream",
     "text": [
      "Intel MKL WARNING: Support of Intel(R) Streaming SIMD Extensions 4.2 (Intel(R) SSE4.2) enabled only processors has been deprecated. Intel oneAPI Math Kernel Library 2025.0 will require Intel(R) Advanced Vector Extensions (Intel(R) AVX) instructions.\n",
      "Intel MKL WARNING: Support of Intel(R) Streaming SIMD Extensions 4.2 (Intel(R) SSE4.2) enabled only processors has been deprecated. Intel oneAPI Math Kernel Library 2025.0 will require Intel(R) Advanced Vector Extensions (Intel(R) AVX) instructions.\n"
     ]
    }
   ],
   "source": [
    "import pyvo as vo\n",
    "\n",
    "nasa_url = \"https://exoplanetarchive.ipac.caltech.edu/TAP\"\n",
    "service = vo.dal.TAPService(nasa_url)"
   ]
  },
  {
   "cell_type": "code",
   "outputs": [],
   "source": [
    "ps_query = \"SELECT * FROM ps\"\n",
    "planetary_systems_data = service.search(ps_query).to_table()"
   ],
   "metadata": {
    "collapsed": false,
    "ExecuteTime": {
     "end_time": "2024-03-29T14:12:22.848988Z",
     "start_time": "2024-03-29T14:09:34.254653Z"
    }
   },
   "id": "810f07644fb405fc",
   "execution_count": 2
  },
  {
   "cell_type": "code",
   "outputs": [],
   "source": [
    "planetary_systems_data.write(\"./data/planetary_systems.csv\", overwrite=True)"
   ],
   "metadata": {
    "collapsed": false,
    "ExecuteTime": {
     "end_time": "2024-03-29T14:12:26.879596Z",
     "start_time": "2024-03-29T14:12:22.842259Z"
    }
   },
   "id": "555a013887e99c50",
   "execution_count": 3
  },
  {
   "cell_type": "code",
   "outputs": [],
   "source": [
    "stellar_query = \"SELECT * FROM stellarhosts\"\n",
    "stellar_data = service.search(stellar_query).to_table()"
   ],
   "metadata": {
    "collapsed": false,
    "ExecuteTime": {
     "end_time": "2024-03-29T14:14:14.028731Z",
     "start_time": "2024-03-29T14:12:26.879635Z"
    }
   },
   "id": "c719313195174009",
   "execution_count": 4
  },
  {
   "cell_type": "code",
   "outputs": [],
   "source": [
    "stellar_data.write(\"./data/stellar.csv\", overwrite=True)"
   ],
   "metadata": {
    "collapsed": false,
    "ExecuteTime": {
     "end_time": "2024-03-29T14:14:15.937693Z",
     "start_time": "2024-03-29T14:14:14.040132Z"
    }
   },
   "id": "dd2728d7b35d034e",
   "execution_count": 5
  }
 ],
 "metadata": {
  "kernelspec": {
   "display_name": "Python 3",
   "language": "python",
   "name": "python3"
  },
  "language_info": {
   "codemirror_mode": {
    "name": "ipython",
    "version": 2
   },
   "file_extension": ".py",
   "mimetype": "text/x-python",
   "name": "python",
   "nbconvert_exporter": "python",
   "pygments_lexer": "ipython2",
   "version": "2.7.6"
  }
 },
 "nbformat": 4,
 "nbformat_minor": 5
}
