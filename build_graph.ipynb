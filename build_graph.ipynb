{
 "cells": [
  {
   "cell_type": "markdown",
   "source": [
    "# BMKG Project\n",
    "## Author: Aurélien Bertrand - I6256590\n",
    "\n",
    "This notebook is intended to create the RDF representation of the datasets obtained. Namely, a set of planetary systems, with confirmed exoplanets. See report for more details."
   ],
   "metadata": {
    "collapsed": false
   },
   "id": "5fea9cca7861ac5a"
  },
  {
   "cell_type": "markdown",
   "source": [
    "### 1. Install and import libraries"
   ],
   "metadata": {
    "collapsed": false
   },
   "id": "b2ecc541df4a550e"
  },
  {
   "cell_type": "code",
   "outputs": [
    {
     "name": "stdout",
     "output_type": "stream",
     "text": [
      "Requirement already satisfied: typing in /usr/local/Caskroom/miniconda/base/lib/python3.11/site-packages (3.7.4.3)\r\n",
      "Requirement already satisfied: pandas in /usr/local/Caskroom/miniconda/base/lib/python3.11/site-packages (2.1.1)\r\n",
      "Requirement already satisfied: numpy in /usr/local/Caskroom/miniconda/base/lib/python3.11/site-packages (1.26.0)\r\n",
      "Requirement already satisfied: rdflib in /usr/local/Caskroom/miniconda/base/lib/python3.11/site-packages (7.0.0)\r\n",
      "Requirement already satisfied: python-dateutil>=2.8.2 in /usr/local/Caskroom/miniconda/base/lib/python3.11/site-packages (from pandas) (2.8.2)\r\n",
      "Requirement already satisfied: pytz>=2020.1 in /usr/local/Caskroom/miniconda/base/lib/python3.11/site-packages (from pandas) (2023.3.post1)\r\n",
      "Requirement already satisfied: tzdata>=2022.1 in /usr/local/Caskroom/miniconda/base/lib/python3.11/site-packages (from pandas) (2023.3)\r\n",
      "Requirement already satisfied: isodate<0.7.0,>=0.6.0 in /usr/local/Caskroom/miniconda/base/lib/python3.11/site-packages (from rdflib) (0.6.1)\r\n",
      "Requirement already satisfied: pyparsing<4,>=2.1.0 in /usr/local/Caskroom/miniconda/base/lib/python3.11/site-packages (from rdflib) (3.0.9)\r\n",
      "Requirement already satisfied: six in /usr/local/Caskroom/miniconda/base/lib/python3.11/site-packages (from isodate<0.7.0,>=0.6.0->rdflib) (1.16.0)\r\n"
     ]
    }
   ],
   "source": [
    "!pip install typing pandas numpy rdflib"
   ],
   "metadata": {
    "collapsed": false,
    "ExecuteTime": {
     "end_time": "2024-03-31T12:42:29.197692Z",
     "start_time": "2024-03-31T12:42:27.301630Z"
    }
   },
   "id": "e7c573ade9c518c8",
   "execution_count": 1
  },
  {
   "cell_type": "code",
   "execution_count": 2,
   "id": "initial_id",
   "metadata": {
    "collapsed": true,
    "ExecuteTime": {
     "end_time": "2024-03-31T12:42:30.000593Z",
     "start_time": "2024-03-31T12:42:29.199508Z"
    }
   },
   "outputs": [
    {
     "name": "stdout",
     "output_type": "stream",
     "text": [
      "Intel MKL WARNING: Support of Intel(R) Streaming SIMD Extensions 4.2 (Intel(R) SSE4.2) enabled only processors has been deprecated. Intel oneAPI Math Kernel Library 2025.0 will require Intel(R) Advanced Vector Extensions (Intel(R) AVX) instructions.\n",
      "Intel MKL WARNING: Support of Intel(R) Streaming SIMD Extensions 4.2 (Intel(R) SSE4.2) enabled only processors has been deprecated. Intel oneAPI Math Kernel Library 2025.0 will require Intel(R) Advanced Vector Extensions (Intel(R) AVX) instructions.\n"
     ]
    }
   ],
   "source": [
    "from typing import Dict\n",
    "from typing import Union\n",
    "\n",
    "import pandas as pd\n",
    "import numpy as np\n",
    "\n",
    "from rdflib import Namespace\n",
    "from rdflib import Graph\n",
    "from rdflib import RDFS\n",
    "from rdflib import RDF\n",
    "from rdflib import URIRef\n",
    "from rdflib import Literal\n",
    "from rdflib import XSD\n",
    "from rdflib import TIME\n",
    "from rdflib import OWL\n",
    "from rdflib import DCTERMS"
   ]
  },
  {
   "cell_type": "markdown",
   "source": [
    "### 2. Load the data"
   ],
   "metadata": {
    "collapsed": false
   },
   "id": "c72a38e3bbbe085a"
  },
  {
   "cell_type": "code",
   "outputs": [
    {
     "data": {
      "text/plain": "         pl_name pl_letter    hostname    hd_name    hip_name         tic_id  \\\n0   OGLE-TR-10 b         b  OGLE-TR-10        NaN         NaN  TIC 130150682   \n2   BD-08 2823 c         c  BD-08 2823        NaN   HIP 49067   TIC 33355302   \n3      HR 8799 c         c     HR 8799  HD 218396  HIP 114189  TIC 245368902   \n24   HD 110014 b         b   HD 110014  HD 110014   HIP 61740   TIC 32448045   \n25    TOI-2084 b         b    TOI-2084        NaN         NaN  TIC 441738827   \n\n                         gaia_id  default_flag  \\\n0   Gaia DR2 4056443366649948160             1   \n2   Gaia DR2 3770419611540574080             1   \n3   Gaia DR2 2832463659640297472             1   \n24  Gaia DR2 3676091134604409728             1   \n25  Gaia DR2 1652137995942479744             1   \n\n                                           pl_refname  \\\n0   <a refstr=TORRES_ET_AL__2008 href=https://ui.a...   \n2   <a refstr=HEBRARD_ET_AL__2010 href=https://ui....   \n3   <a refstr=MAROIS_ET_AL__2008 href=https://ui.a...   \n24  <a refstr=DE_MEDEIROS_ET_AL__2009 href=https:/...   \n25  <a refstr=BARKAOUI_ET_AL__2023 href=https://ui...   \n\n                                           sy_refname  ... sy_jmagerr1  \\\n0   <a refstr=STASSUN_ET_AL__2019 href=https://ui....  ...         NaN   \n2   <a refstr=STASSUN_ET_AL__2019 href=https://ui....  ...       0.020   \n3   <a refstr=STASSUN_ET_AL__2019 href=https://ui....  ...       0.027   \n24  <a refstr=STASSUN_ET_AL__2019 href=https://ui....  ...       0.308   \n25  <a refstr=STASSUN_ET_AL__2019 href=https://ui....  ...       0.021   \n\n    sy_jmagerr2           sy_jmagstr sy_hmag sy_hmagerr1 sy_hmagerr2  \\\n0           NaN               13.692  13.314       0.121      -0.121   \n2        -0.020     7.96&plusmn;0.02   7.498       0.047      -0.047   \n3        -0.027   5.383&plusmn;0.027   5.280       0.018      -0.018   \n24       -0.308   2.674&plusmn;0.308   2.172       0.250      -0.250   \n25       -0.021  11.961&plusmn;0.021  11.356       0.018      -0.018   \n\n             sy_hmagstr sy_kmag  sy_kmagerr1 sy_kmagerr2  \n0   13.314&plusmn;0.121  12.856          NaN         NaN  \n2    7.498&plusmn;0.047   7.323        0.021      -0.021  \n3    5.280&plusmn;0.018   5.240        0.018      -0.018  \n24   2.172&plusmn;0.250   2.011        0.312      -0.312  \n25  11.356&plusmn;0.018  11.148        0.020      -0.020  \n\n[5 rows x 353 columns]",
      "text/html": "<div>\n<style scoped>\n    .dataframe tbody tr th:only-of-type {\n        vertical-align: middle;\n    }\n\n    .dataframe tbody tr th {\n        vertical-align: top;\n    }\n\n    .dataframe thead th {\n        text-align: right;\n    }\n</style>\n<table border=\"1\" class=\"dataframe\">\n  <thead>\n    <tr style=\"text-align: right;\">\n      <th></th>\n      <th>pl_name</th>\n      <th>pl_letter</th>\n      <th>hostname</th>\n      <th>hd_name</th>\n      <th>hip_name</th>\n      <th>tic_id</th>\n      <th>gaia_id</th>\n      <th>default_flag</th>\n      <th>pl_refname</th>\n      <th>sy_refname</th>\n      <th>...</th>\n      <th>sy_jmagerr1</th>\n      <th>sy_jmagerr2</th>\n      <th>sy_jmagstr</th>\n      <th>sy_hmag</th>\n      <th>sy_hmagerr1</th>\n      <th>sy_hmagerr2</th>\n      <th>sy_hmagstr</th>\n      <th>sy_kmag</th>\n      <th>sy_kmagerr1</th>\n      <th>sy_kmagerr2</th>\n    </tr>\n  </thead>\n  <tbody>\n    <tr>\n      <th>0</th>\n      <td>OGLE-TR-10 b</td>\n      <td>b</td>\n      <td>OGLE-TR-10</td>\n      <td>NaN</td>\n      <td>NaN</td>\n      <td>TIC 130150682</td>\n      <td>Gaia DR2 4056443366649948160</td>\n      <td>1</td>\n      <td>&lt;a refstr=TORRES_ET_AL__2008 href=https://ui.a...</td>\n      <td>&lt;a refstr=STASSUN_ET_AL__2019 href=https://ui....</td>\n      <td>...</td>\n      <td>NaN</td>\n      <td>NaN</td>\n      <td>13.692</td>\n      <td>13.314</td>\n      <td>0.121</td>\n      <td>-0.121</td>\n      <td>13.314&amp;plusmn;0.121</td>\n      <td>12.856</td>\n      <td>NaN</td>\n      <td>NaN</td>\n    </tr>\n    <tr>\n      <th>2</th>\n      <td>BD-08 2823 c</td>\n      <td>c</td>\n      <td>BD-08 2823</td>\n      <td>NaN</td>\n      <td>HIP 49067</td>\n      <td>TIC 33355302</td>\n      <td>Gaia DR2 3770419611540574080</td>\n      <td>1</td>\n      <td>&lt;a refstr=HEBRARD_ET_AL__2010 href=https://ui....</td>\n      <td>&lt;a refstr=STASSUN_ET_AL__2019 href=https://ui....</td>\n      <td>...</td>\n      <td>0.020</td>\n      <td>-0.020</td>\n      <td>7.96&amp;plusmn;0.02</td>\n      <td>7.498</td>\n      <td>0.047</td>\n      <td>-0.047</td>\n      <td>7.498&amp;plusmn;0.047</td>\n      <td>7.323</td>\n      <td>0.021</td>\n      <td>-0.021</td>\n    </tr>\n    <tr>\n      <th>3</th>\n      <td>HR 8799 c</td>\n      <td>c</td>\n      <td>HR 8799</td>\n      <td>HD 218396</td>\n      <td>HIP 114189</td>\n      <td>TIC 245368902</td>\n      <td>Gaia DR2 2832463659640297472</td>\n      <td>1</td>\n      <td>&lt;a refstr=MAROIS_ET_AL__2008 href=https://ui.a...</td>\n      <td>&lt;a refstr=STASSUN_ET_AL__2019 href=https://ui....</td>\n      <td>...</td>\n      <td>0.027</td>\n      <td>-0.027</td>\n      <td>5.383&amp;plusmn;0.027</td>\n      <td>5.280</td>\n      <td>0.018</td>\n      <td>-0.018</td>\n      <td>5.280&amp;plusmn;0.018</td>\n      <td>5.240</td>\n      <td>0.018</td>\n      <td>-0.018</td>\n    </tr>\n    <tr>\n      <th>24</th>\n      <td>HD 110014 b</td>\n      <td>b</td>\n      <td>HD 110014</td>\n      <td>HD 110014</td>\n      <td>HIP 61740</td>\n      <td>TIC 32448045</td>\n      <td>Gaia DR2 3676091134604409728</td>\n      <td>1</td>\n      <td>&lt;a refstr=DE_MEDEIROS_ET_AL__2009 href=https:/...</td>\n      <td>&lt;a refstr=STASSUN_ET_AL__2019 href=https://ui....</td>\n      <td>...</td>\n      <td>0.308</td>\n      <td>-0.308</td>\n      <td>2.674&amp;plusmn;0.308</td>\n      <td>2.172</td>\n      <td>0.250</td>\n      <td>-0.250</td>\n      <td>2.172&amp;plusmn;0.250</td>\n      <td>2.011</td>\n      <td>0.312</td>\n      <td>-0.312</td>\n    </tr>\n    <tr>\n      <th>25</th>\n      <td>TOI-2084 b</td>\n      <td>b</td>\n      <td>TOI-2084</td>\n      <td>NaN</td>\n      <td>NaN</td>\n      <td>TIC 441738827</td>\n      <td>Gaia DR2 1652137995942479744</td>\n      <td>1</td>\n      <td>&lt;a refstr=BARKAOUI_ET_AL__2023 href=https://ui...</td>\n      <td>&lt;a refstr=STASSUN_ET_AL__2019 href=https://ui....</td>\n      <td>...</td>\n      <td>0.021</td>\n      <td>-0.021</td>\n      <td>11.961&amp;plusmn;0.021</td>\n      <td>11.356</td>\n      <td>0.018</td>\n      <td>-0.018</td>\n      <td>11.356&amp;plusmn;0.018</td>\n      <td>11.148</td>\n      <td>0.020</td>\n      <td>-0.020</td>\n    </tr>\n  </tbody>\n</table>\n<p>5 rows × 353 columns</p>\n</div>"
     },
     "execution_count": 3,
     "metadata": {},
     "output_type": "execute_result"
    }
   ],
   "source": [
    "ps = pd.read_csv(\"./data/planetary_systems.csv\", low_memory=False)\n",
    "ps = ps[ps[\"default_flag\"] == 1]  # Get the most up-to-date records for each observation\n",
    "ps.head()"
   ],
   "metadata": {
    "collapsed": false,
    "ExecuteTime": {
     "end_time": "2024-03-31T12:42:31.487163Z",
     "start_time": "2024-03-31T12:42:30.001787Z"
    }
   },
   "id": "1a7b9d0b2bb7d8d0",
   "execution_count": 3
  },
  {
   "cell_type": "code",
   "outputs": [
    {
     "data": {
      "text/plain": "            hostname hd_name hip_name         tic_id  \\\n0  MOA-2010-BLG-117L     NaN      NaN            NaN   \n1         Kepler-914     NaN      NaN  TIC 159386728   \n2         Kepler-579     NaN      NaN  TIC 138959504   \n3        Kepler-1419     NaN      NaN  TIC 137548281   \n4        Kepler-1610     NaN      NaN  TIC 272073436   \n\n                                          st_refname  \\\n0  <a refstr=BENNETT_ET_AL__2018 href=https://ui....   \n1  <a refstr=BERGER_ET_AL__2018 href=https://ui.a...   \n2  <a refstr=BATALHA_ET_AL__2013 href=https://ui....   \n3  <a refstr=Q1_Q16_KOI_TABLE href=https://exopla...   \n4  <a refstr=Q1_Q17_DR25_KOI_TABLE href=https://e...   \n\n                                          sy_refname          ra  \\\n0  <a refstr=BENNETT_ET_AL__2018 href=https://ui....  271.956970   \n1  <a refstr=STASSUN_ET_AL__2019 href=https://ui....  290.412077   \n2  <a refstr=STASSUN_ET_AL__2019 href=https://ui....  295.002077   \n3  <a refstr=STASSUN_ET_AL__2019 href=https://ui....  292.254592   \n4  <a refstr=STASSUN_ET_AL__2019 href=https://ui....  295.904980   \n\n          rastr        dec         decstr  ...  st_spectype  sy_kepmag  \\\n0  18h07m49.67s -25.344639   -25d20m40.7s  ...          NaN        NaN   \n1  19h21m38.90s  44.899323  +44d53m57.56s  ...          NaN     13.574   \n2  19h40m00.50s  39.952861  +39d57m10.30s  ...          NaN     14.272   \n3  19h29m01.10s  37.971376  +37d58m16.95s  ...          NaN     15.761   \n4  19h43m37.20s  45.405430  +45d24m19.55s  ...          NaN     15.850   \n\n   sy_kepmagerr1  sy_kepmagerr2  st_rotp  st_rotperr1  st_rotperr2  \\\n0            NaN            NaN      NaN          NaN          NaN   \n1            NaN            NaN      NaN          NaN          NaN   \n2            NaN            NaN      NaN          NaN          NaN   \n3            NaN            NaN      NaN          NaN          NaN   \n4            NaN            NaN      NaN          NaN          NaN   \n\n   st_rotplim                       gaia_id  cb_flag  \n0         NaN                           NaN        0  \n1         NaN  Gaia DR2 2127019915540964224        0  \n2         NaN  Gaia DR2 2076477053946253952        0  \n3         NaN  Gaia DR2 2051897265347291520        0  \n4         NaN  Gaia DR2 2079807646464016256        0  \n\n[5 rows x 135 columns]",
      "text/html": "<div>\n<style scoped>\n    .dataframe tbody tr th:only-of-type {\n        vertical-align: middle;\n    }\n\n    .dataframe tbody tr th {\n        vertical-align: top;\n    }\n\n    .dataframe thead th {\n        text-align: right;\n    }\n</style>\n<table border=\"1\" class=\"dataframe\">\n  <thead>\n    <tr style=\"text-align: right;\">\n      <th></th>\n      <th>hostname</th>\n      <th>hd_name</th>\n      <th>hip_name</th>\n      <th>tic_id</th>\n      <th>st_refname</th>\n      <th>sy_refname</th>\n      <th>ra</th>\n      <th>rastr</th>\n      <th>dec</th>\n      <th>decstr</th>\n      <th>...</th>\n      <th>st_spectype</th>\n      <th>sy_kepmag</th>\n      <th>sy_kepmagerr1</th>\n      <th>sy_kepmagerr2</th>\n      <th>st_rotp</th>\n      <th>st_rotperr1</th>\n      <th>st_rotperr2</th>\n      <th>st_rotplim</th>\n      <th>gaia_id</th>\n      <th>cb_flag</th>\n    </tr>\n  </thead>\n  <tbody>\n    <tr>\n      <th>0</th>\n      <td>MOA-2010-BLG-117L</td>\n      <td>NaN</td>\n      <td>NaN</td>\n      <td>NaN</td>\n      <td>&lt;a refstr=BENNETT_ET_AL__2018 href=https://ui....</td>\n      <td>&lt;a refstr=BENNETT_ET_AL__2018 href=https://ui....</td>\n      <td>271.956970</td>\n      <td>18h07m49.67s</td>\n      <td>-25.344639</td>\n      <td>-25d20m40.7s</td>\n      <td>...</td>\n      <td>NaN</td>\n      <td>NaN</td>\n      <td>NaN</td>\n      <td>NaN</td>\n      <td>NaN</td>\n      <td>NaN</td>\n      <td>NaN</td>\n      <td>NaN</td>\n      <td>NaN</td>\n      <td>0</td>\n    </tr>\n    <tr>\n      <th>1</th>\n      <td>Kepler-914</td>\n      <td>NaN</td>\n      <td>NaN</td>\n      <td>TIC 159386728</td>\n      <td>&lt;a refstr=BERGER_ET_AL__2018 href=https://ui.a...</td>\n      <td>&lt;a refstr=STASSUN_ET_AL__2019 href=https://ui....</td>\n      <td>290.412077</td>\n      <td>19h21m38.90s</td>\n      <td>44.899323</td>\n      <td>+44d53m57.56s</td>\n      <td>...</td>\n      <td>NaN</td>\n      <td>13.574</td>\n      <td>NaN</td>\n      <td>NaN</td>\n      <td>NaN</td>\n      <td>NaN</td>\n      <td>NaN</td>\n      <td>NaN</td>\n      <td>Gaia DR2 2127019915540964224</td>\n      <td>0</td>\n    </tr>\n    <tr>\n      <th>2</th>\n      <td>Kepler-579</td>\n      <td>NaN</td>\n      <td>NaN</td>\n      <td>TIC 138959504</td>\n      <td>&lt;a refstr=BATALHA_ET_AL__2013 href=https://ui....</td>\n      <td>&lt;a refstr=STASSUN_ET_AL__2019 href=https://ui....</td>\n      <td>295.002077</td>\n      <td>19h40m00.50s</td>\n      <td>39.952861</td>\n      <td>+39d57m10.30s</td>\n      <td>...</td>\n      <td>NaN</td>\n      <td>14.272</td>\n      <td>NaN</td>\n      <td>NaN</td>\n      <td>NaN</td>\n      <td>NaN</td>\n      <td>NaN</td>\n      <td>NaN</td>\n      <td>Gaia DR2 2076477053946253952</td>\n      <td>0</td>\n    </tr>\n    <tr>\n      <th>3</th>\n      <td>Kepler-1419</td>\n      <td>NaN</td>\n      <td>NaN</td>\n      <td>TIC 137548281</td>\n      <td>&lt;a refstr=Q1_Q16_KOI_TABLE href=https://exopla...</td>\n      <td>&lt;a refstr=STASSUN_ET_AL__2019 href=https://ui....</td>\n      <td>292.254592</td>\n      <td>19h29m01.10s</td>\n      <td>37.971376</td>\n      <td>+37d58m16.95s</td>\n      <td>...</td>\n      <td>NaN</td>\n      <td>15.761</td>\n      <td>NaN</td>\n      <td>NaN</td>\n      <td>NaN</td>\n      <td>NaN</td>\n      <td>NaN</td>\n      <td>NaN</td>\n      <td>Gaia DR2 2051897265347291520</td>\n      <td>0</td>\n    </tr>\n    <tr>\n      <th>4</th>\n      <td>Kepler-1610</td>\n      <td>NaN</td>\n      <td>NaN</td>\n      <td>TIC 272073436</td>\n      <td>&lt;a refstr=Q1_Q17_DR25_KOI_TABLE href=https://e...</td>\n      <td>&lt;a refstr=STASSUN_ET_AL__2019 href=https://ui....</td>\n      <td>295.904980</td>\n      <td>19h43m37.20s</td>\n      <td>45.405430</td>\n      <td>+45d24m19.55s</td>\n      <td>...</td>\n      <td>NaN</td>\n      <td>15.850</td>\n      <td>NaN</td>\n      <td>NaN</td>\n      <td>NaN</td>\n      <td>NaN</td>\n      <td>NaN</td>\n      <td>NaN</td>\n      <td>Gaia DR2 2079807646464016256</td>\n      <td>0</td>\n    </tr>\n  </tbody>\n</table>\n<p>5 rows × 135 columns</p>\n</div>"
     },
     "execution_count": 4,
     "metadata": {},
     "output_type": "execute_result"
    }
   ],
   "source": [
    "stellar = pd.read_csv(\"./data/stellar.csv\", low_memory=False)\n",
    "stellar.head()"
   ],
   "metadata": {
    "collapsed": false,
    "ExecuteTime": {
     "end_time": "2024-03-31T12:42:32.385564Z",
     "start_time": "2024-03-31T12:42:31.488395Z"
    }
   },
   "id": "442265739cbaab64",
   "execution_count": 4
  },
  {
   "cell_type": "markdown",
   "source": [
    "### 3. Define helper functions"
   ],
   "metadata": {
    "collapsed": false
   },
   "id": "88a1ddd35aeb400"
  },
  {
   "cell_type": "code",
   "outputs": [],
   "source": [
    "PARAM_NAME = \"parameter_name\"\n",
    "PARAM_UNIT = \"parameter_unit\"\n",
    "\n",
    "# Formats the name of an entity to be used as a URI\n",
    "def format_name(name: str) -> str:\n",
    "    return name.strip().replace(\" \", \"_\")\n",
    "\n",
    "# Create a quantitative value (value with uncertainty around it)\n",
    "def create_quantitative_value(\n",
    "    name: str, \n",
    "    param: str,\n",
    "    value: float, \n",
    "    min_eps: Union[None, float], \n",
    "    max_eps: Union[None, float], \n",
    "    unit: Union[None, URIRef],\n",
    ") -> URIRef:\n",
    "    observation_uri = OBSERVATION[format_name(name=name) + \"/\" + param]\n",
    "    ExoKG.add((observation_uri, RDF.type, SCHEMA.QuantitativeValue))\n",
    "    ExoKG.add((observation_uri, SCHEMA.value, Literal(value, datatype=XSD.double)))\n",
    "    if unit is not None:\n",
    "        ExoKG.add((observation_uri, SCHEMA.unitCode, unit))\n",
    "    if min_eps is not None and not pd.isna(min_eps):\n",
    "        ExoKG.add((observation_uri, SCHEMA.minValue, Literal(value+min_eps, datatype=XSD.double)))\n",
    "    if max_eps is not None and not pd.isna(max_eps):\n",
    "        ExoKG.add((observation_uri, SCHEMA.maxValue, Literal(value+max_eps, datatype=XSD.double)))\n",
    "    \n",
    "    return observation_uri\n",
    "\n",
    "# Adds relevant parameters to celestial objects (stars and exoplanets)\n",
    "def add_object_parameters(\n",
    "    object_uri: URIRef,\n",
    "    object_row: pd.Series, \n",
    "    parameters: Dict[str, Dict[str, URIRef]], \n",
    "    name: str\n",
    ") -> None:\n",
    "    for param, att in parameters.items():\n",
    "        value = object_row[param]\n",
    "        if pd.isna(value):\n",
    "            continue\n",
    "            \n",
    "        max_name = param + \"err1\"\n",
    "        max_value = object_row[max_name] if max_name in object_row.index else None\n",
    "        \n",
    "        min_name = param + \"err2\"\n",
    "        min_value = object_row[min_name] if min_name in object_row.index else None \n",
    "        \n",
    "        variable_uri = create_quantitative_value(\n",
    "            name=name,\n",
    "            param=param,\n",
    "            value=value, \n",
    "            min_eps=min_value,\n",
    "            max_eps=max_value,\n",
    "            unit=att[PARAM_UNIT]\n",
    "        )\n",
    "        ExoKG.add((object_uri, att[PARAM_NAME], variable_uri))"
   ],
   "metadata": {
    "collapsed": false,
    "ExecuteTime": {
     "end_time": "2024-03-31T12:42:32.391384Z",
     "start_time": "2024-03-31T12:42:32.389784Z"
    }
   },
   "id": "ad5db9e1098aa85c",
   "execution_count": 5
  },
  {
   "cell_type": "markdown",
   "source": [
    "### 4. Create the ontology with mappings to existing vocabularies\n"
   ],
   "metadata": {
    "collapsed": false
   },
   "id": "a6d5bb5b1d308c56"
  },
  {
   "cell_type": "code",
   "outputs": [],
   "source": [
    "# Create graph\n",
    "ExoKG = Graph()"
   ],
   "metadata": {
    "collapsed": false,
    "ExecuteTime": {
     "end_time": "2024-03-31T12:42:32.394490Z",
     "start_time": "2024-03-31T12:42:32.392224Z"
    }
   },
   "id": "2d988c18ea1f0d4a",
   "execution_count": 6
  },
  {
   "cell_type": "code",
   "outputs": [],
   "source": [
    "url = \"https://example.org/ontology/\""
   ],
   "metadata": {
    "collapsed": false,
    "ExecuteTime": {
     "end_time": "2024-03-31T12:42:32.397005Z",
     "start_time": "2024-03-31T12:42:32.395556Z"
    }
   },
   "id": "a329d5272ab2e258",
   "execution_count": 7
  },
  {
   "cell_type": "markdown",
   "source": [
    "1) Add namespaces"
   ],
   "metadata": {
    "collapsed": false
   },
   "id": "b2894c9f09f3be70"
  },
  {
   "cell_type": "code",
   "outputs": [],
   "source": [
    "# Self-defined ontology\n",
    "EX = Namespace(url)\n",
    "OBSERVATION = Namespace(url + \"observation/\")\n",
    "DISCOVERY = Namespace(url + \"discovery/\")\n",
    "CELESTIAL_BODY = Namespace(url + \"celestial_body/\")\n",
    "EXOPLANET = Namespace(url + \"celestial_body/exoplanet/\")\n",
    "STAR = Namespace(url + \"celestial_body/star/\")\n",
    "PLANETARY_SYSTEM = Namespace(url + \"planetary_system/\")\n",
    "UNIT = Namespace(url + \"unit/\")\n",
    "\n",
    "# TODO: dbp:discoveryMethod and dbr:Direct_imaging\n",
    "# Existing ontologies\n",
    "SCHEMA = Namespace(\"https://schema.org/\")\n",
    "UCUM = Namespace(\"https://w3id.org/uom/\")\n",
    "OM2 = Namespace(\"http://www.ontology-of-units-of-measure.org/resource/om-2/\")\n",
    "SKOS = Namespace(\"http://www.w3.org/2004/02/skos/core#\")\n",
    "WD = Namespace(\"https://www.wikidata.org/wiki/\")\n",
    "DBO = Namespace(\"https://dbpedia.org/ontology/\")\n",
    "DBP = Namespace(\"https://dbpedia.org/property/\")\n",
    "DBR = Namespace(\"https://dbpedia.org/page/\") # TODO: check everywhere where to use DBO and DBP"
   ],
   "metadata": {
    "collapsed": false,
    "ExecuteTime": {
     "end_time": "2024-03-31T12:42:32.400032Z",
     "start_time": "2024-03-31T12:42:32.398692Z"
    }
   },
   "id": "d0e72b332feea02",
   "execution_count": 8
  },
  {
   "cell_type": "code",
   "outputs": [],
   "source": [
    "ExoKG.bind(\"ex\", EX)\n",
    "ExoKG.bind(\"obs\", OBSERVATION)\n",
    "ExoKG.bind(\"disc\", DISCOVERY)\n",
    "ExoKG.bind(\"cb\", CELESTIAL_BODY)\n",
    "ExoKG.bind(\"exo\", EXOPLANET)\n",
    "ExoKG.bind(\"star\", STAR)\n",
    "ExoKG.bind(\"ps\", PLANETARY_SYSTEM)\n",
    "ExoKG.bind(\"unit\", UNIT)\n",
    "\n",
    "ExoKG.bind(\"schema\", SCHEMA)\n",
    "ExoKG.bind(\"ucum\", UCUM)\n",
    "ExoKG.bind(\"oum\", OM2)\n",
    "ExoKG.bind(\"skos\", SKOS)\n",
    "ExoKG.bind(\"wd\", WD)\n",
    "ExoKG.bind(\"dbo\", DBO)\n",
    "ExoKG.bind(\"dbp\", DBP)\n",
    "ExoKG.bind(\"dbr\", DBR)"
   ],
   "metadata": {
    "collapsed": false,
    "ExecuteTime": {
     "end_time": "2024-03-31T12:42:32.403525Z",
     "start_time": "2024-03-31T12:42:32.402152Z"
    }
   },
   "id": "c038f230653b3d04",
   "execution_count": 9
  },
  {
   "cell_type": "markdown",
   "source": [
    "2. Define relations / entities that are widely used"
   ],
   "metadata": {
    "collapsed": false
   },
   "id": "4aaebafd7cbafda7"
  },
  {
   "cell_type": "code",
   "outputs": [],
   "source": [
    "type = RDF.type\n",
    "label = RDFS.label\n",
    "definition = SKOS.definition\n",
    "domain = RDFS.domain\n",
    "range = RDFS.range\n",
    "\n",
    "identifier = DCTERMS.identifier\n",
    "\n",
    "Class = RDFS.Class\n",
    "Property = RDF.Property\n",
    "\n",
    "same_as = OWL.sameAs\n",
    "\n",
    "broader = SKOS.broader\n",
    "\n",
    "quantitative_value = SCHEMA.QuantitativeValue"
   ],
   "metadata": {
    "collapsed": false,
    "ExecuteTime": {
     "end_time": "2024-03-31T12:42:32.412852Z",
     "start_time": "2024-03-31T12:42:32.407036Z"
    }
   },
   "id": "f25d42da1b366f35",
   "execution_count": 10
  },
  {
   "cell_type": "markdown",
   "source": [
    "3) Define units"
   ],
   "metadata": {
    "collapsed": false
   },
   "id": "f9344b079b25af8f"
  },
  {
   "cell_type": "code",
   "outputs": [
    {
     "data": {
      "text/plain": "<Graph identifier=N63a120279d044d7096e764c56b4cf53a (<class 'rdflib.graph.Graph'>)>"
     },
     "execution_count": 11,
     "metadata": {},
     "output_type": "execute_result"
    }
   ],
   "source": [
    "Unit = EX.Unit\n",
    "ExoKG.add((Unit, type, Class))\n",
    "ExoKG.add((Unit, same_as, OM2.Unit))"
   ],
   "metadata": {
    "collapsed": false,
    "ExecuteTime": {
     "end_time": "2024-03-31T12:42:32.417858Z",
     "start_time": "2024-03-31T12:42:32.409531Z"
    }
   },
   "id": "58ac430978758dab",
   "execution_count": 11
  },
  {
   "cell_type": "code",
   "outputs": [
    {
     "data": {
      "text/plain": "<Graph identifier=N63a120279d044d7096e764c56b4cf53a (<class 'rdflib.graph.Graph'>)>"
     },
     "execution_count": 12,
     "metadata": {},
     "output_type": "execute_result"
    }
   ],
   "source": [
    "# Standard UCUM units\n",
    "astronomical_units = UNIT.astronomical_units\n",
    "ExoKG.add((astronomical_units, type, Unit))\n",
    "ExoKG.add((astronomical_units, same_as, UCUM.AU))\n",
    "\n",
    "kilometer = UNIT.kilometer\n",
    "ExoKG.add((kilometer, type, Unit))\n",
    "ExoKG.add((kilometer, same_as, UCUM.km))\n",
    "\n",
    "kelvin = UNIT.kelvin\n",
    "ExoKG.add((kelvin, type, Unit))\n",
    "ExoKG.add((kelvin, same_as, UCUM.K))\n",
    "\n",
    "degree = UNIT.degree\n",
    "ExoKG.add((degree, type, Unit))\n",
    "ExoKG.add((degree, same_as, UCUM.deg))\n",
    "\n",
    "g_cm3 = UNIT.gram_per_cubic_centimeter\n",
    "ExoKG.add((g_cm3, type, Unit))\n",
    "ExoKG.add((g_cm3, same_as, UCUM[\"ExoKG.cm-3\"]))\n",
    "\n",
    "w_m2 = UNIT.watt_per_square_meter\n",
    "ExoKG.add((w_m2, type, Unit))\n",
    "ExoKG.add((w_m2, same_as, UCUM[\"W.m-2\"]))\n",
    "\n",
    "parsec = UNIT.parsec\n",
    "ExoKG.add((parsec, type, Unit))\n",
    "ExoKG.add((parsec, same_as, UCUM.pc))\n",
    "\n",
    "kilogram = UNIT.kilogram\n",
    "ExoKG.add((kilogram, type, Unit))\n",
    "ExoKG.add((kilogram, same_as, UCUM.kg))\n",
    "\n",
    "cm_s2 = UNIT.centimeter_per_square_second\n",
    "ExoKG.add((cm_s2, type, Unit))\n",
    "ExoKG.add((cm_s2, same_as, UCUM[\"cm.s-2\"]))\n",
    "\n",
    "km_s = UNIT.kilometer_per_second\n",
    "ExoKG.add((km_s, type, Unit))\n",
    "ExoKG.add((km_s, same_as, UCUM[\"km.s-1\"]))\n",
    "\n",
    "watt = UNIT.watt\n",
    "ExoKG.add((watt, type, Unit))\n",
    "ExoKG.add((watt, same_as, UCUM.W))"
   ],
   "metadata": {
    "collapsed": false,
    "ExecuteTime": {
     "end_time": "2024-03-31T12:42:32.436005Z",
     "start_time": "2024-03-31T12:42:32.417150Z"
    }
   },
   "id": "93c33a151e88b5d5",
   "execution_count": 12
  },
  {
   "cell_type": "code",
   "outputs": [
    {
     "data": {
      "text/plain": "<Graph identifier=N63a120279d044d7096e764c56b4cf53a (<class 'rdflib.graph.Graph'>)>"
     },
     "execution_count": 13,
     "metadata": {},
     "output_type": "execute_result"
    }
   ],
   "source": [
    "symbol = UNIT.symbol\n",
    "ExoKG.add((symbol, type, Property))\n",
    "ExoKG.add((symbol, same_as, OM2.symbol))\n",
    "\n",
    "factor = UNIT.factor\n",
    "ExoKG.add((factor, type, Property))\n",
    "ExoKG.add((factor, same_as, OM2.hasFactor))\n",
    "\n",
    "# Extra units of measurements\n",
    "solar_radius = UNIT.solar_radius\n",
    "ExoKG.add((solar_radius, type, Unit))\n",
    "ExoKG.add((solar_radius, symbol, Literal(\"R☉\", datatype=XSD.string)))\n",
    "ExoKG.add((solar_radius, factor, Literal(6.955e+8, datatype=XSD.double)))\n",
    "ExoKG.add((solar_radius, label, Literal(\"Solar radius\", lang=\"en\")))\n",
    "ExoKG.add((solar_radius, definition, Literal(\"Radius of the Sun, used as unit of radius\", lang=\"en\")))\n",
    "ExoKG.add((solar_radius, same_as, DBO.Solar_radius))\n",
    "\n",
    "earth_radius = UNIT.earth_radius\n",
    "ExoKG.add((earth_radius, type, Unit))\n",
    "ExoKG.add((earth_radius, symbol, Literal(\"R🜨\", datatype=XSD.string)))\n",
    "ExoKG.add((earth_radius, factor, Literal(6378.137, datatype=XSD.double)))\n",
    "ExoKG.add((earth_radius, label, Literal(\"Earth radius\", lang=\"en\")))\n",
    "ExoKG.add((earth_radius, definition, Literal(\"Radius of planet Earth, used as unit of radius\", lang=\"en\")))\n",
    "ExoKG.add((earth_radius, same_as, DBO.Earth_radius))\n",
    "\n",
    "jupiter_radius = UNIT.jupiter_radius\n",
    "ExoKG.add((jupiter_radius, type, Unit))\n",
    "ExoKG.add((jupiter_radius, symbol, Literal(\"RJ\", datatype=XSD.string)))\n",
    "ExoKG.add((jupiter_radius, factor, Literal(71492, datatype=XSD.double)))\n",
    "ExoKG.add((jupiter_radius, label, Literal(\"Jupiter radius\", lang=\"en\")))\n",
    "ExoKG.add((jupiter_radius, definition, Literal(\"Radius of planet Jupiter, used as unit of radius\", lang=\"en\")))\n",
    "ExoKG.add((jupiter_radius, same_as, DBO.Jupiter_radius))\n",
    "\n",
    "solar_mass = UNIT.solar_mass\n",
    "ExoKG.add((solar_mass, type, Unit))\n",
    "ExoKG.add((solar_mass, symbol, Literal(\"M☉\", datatype=XSD.string)))\n",
    "ExoKG.add((solar_mass, factor, Literal(1.98892e+30, datatype=XSD.double)))\n",
    "ExoKG.add((solar_mass, label, Literal(\"Solar mass\", lang=\"en\")))\n",
    "ExoKG.add((solar_mass, definition, Literal(\"Mass of the Sun, used as unit of weight\", lang=\"en\")))\n",
    "ExoKG.add((solar_mass, same_as, DBO.Earth_mass))\n",
    "\n",
    "earth_mass = UNIT.earth_mass\n",
    "ExoKG.add((earth_mass, type, Unit))\n",
    "ExoKG.add((earth_mass, symbol, Literal(\"M🜨\", datatype=XSD.string)))\n",
    "ExoKG.add((earth_mass, factor, Literal(5.9724e+24, datatype=XSD.double)))\n",
    "ExoKG.add((earth_mass, label, Literal(\"Earth mass\", lang=\"en\")))\n",
    "ExoKG.add((earth_mass, definition, Literal(\"Mass of planet Earth, used as unit of weight\", lang=\"en\")))\n",
    "ExoKG.add((earth_mass, same_as, DBO.Earth_mass))\n",
    "\n",
    "jupiter_mass = UNIT.jupiter_mass\n",
    "ExoKG.add((jupiter_mass, type, Unit))\n",
    "ExoKG.add((jupiter_mass, symbol, Literal(\"MJ\", datatype=XSD.string)))\n",
    "ExoKG.add((jupiter_mass, factor, Literal(1.89813e+27, datatype=XSD.double)))\n",
    "ExoKG.add((jupiter_mass, label, Literal(\"Jupiter mass\", lang=\"en\")))\n",
    "ExoKG.add((jupiter_mass, definition, Literal(\"Mass of planet Jupiter, used as unit of weight\", lang=\"en\")))\n",
    "ExoKG.add((jupiter_mass, same_as, DBO.Jupiter_mass))\n",
    "\n",
    "solar_luminosity = UNIT.solar_luminosity\n",
    "ExoKG.add((solar_luminosity, type, Unit))\n",
    "ExoKG.add((solar_luminosity, symbol, Literal(\"L☉\", datatype=XSD.string)))\n",
    "ExoKG.add((solar_luminosity, factor, Literal(3.839e26, datatype=XSD.double)))\n",
    "ExoKG.add((solar_luminosity, label, Literal(\"Solar luminosity\", lang=\"en\")))\n",
    "ExoKG.add((solar_luminosity, definition, Literal(\"Luminosity of the Sun, used as unit of luminosity\", lang=\"en\")))\n",
    "ExoKG.add((solar_luminosity, same_as, OM2.solarLuminosity))\n",
    "\n",
    "earth_flux = UNIT.earth_flux\n",
    "ExoKG.add((earth_flux, type, Unit))\n",
    "ExoKG.add((earth_flux, symbol, Literal(\"GSC\", datatype=XSD.string)))\n",
    "ExoKG.add((earth_flux, factor, Literal(1361, datatype=XSD.double)))\n",
    "ExoKG.add((earth_flux, label, Literal(\"Earth flux\", lang=\"en\")))\n",
    "ExoKG.add((earth_flux, definition, Literal(\"Insolation flux provided by the Sun on the Earth, used as a unit of insolation flux\", lang=\"en\")))\n",
    "ExoKG.add((earth_flux, same_as, DBO.Solar_constant))"
   ],
   "metadata": {
    "collapsed": false,
    "ExecuteTime": {
     "end_time": "2024-03-31T12:42:32.442763Z",
     "start_time": "2024-03-31T12:42:32.432914Z"
    }
   },
   "id": "cc5a732026228537",
   "execution_count": 13
  },
  {
   "cell_type": "code",
   "outputs": [
    {
     "data": {
      "text/plain": "<Graph identifier=N63a120279d044d7096e764c56b4cf53a (<class 'rdflib.graph.Graph'>)>"
     },
     "execution_count": 14,
     "metadata": {},
     "output_type": "execute_result"
    }
   ],
   "source": [
    "# Non-UCUM units\n",
    "days = UNIT.days\n",
    "ExoKG.add((days, type, Unit))\n",
    "ExoKG.add((days, same_as, TIME.days))\n",
    "\n",
    "gigayear = UNIT.gigayear\n",
    "ExoKG.add((gigayear, type, Unit))\n",
    "ExoKG.add((gigayear, factor, Literal(1e+9, datatype=XSD.double)))\n",
    "ExoKG.add((gigayear, same_as, OM2.gigayear))"
   ],
   "metadata": {
    "collapsed": false,
    "ExecuteTime": {
     "end_time": "2024-03-31T12:42:32.456208Z",
     "start_time": "2024-03-31T12:42:32.436740Z"
    }
   },
   "id": "382ee200ce5efd62",
   "execution_count": 14
  },
  {
   "cell_type": "markdown",
   "source": [
    "4) Define classes"
   ],
   "metadata": {
    "collapsed": false
   },
   "id": "9d879a71927cb0c3"
  },
  {
   "cell_type": "code",
   "outputs": [
    {
     "data": {
      "text/plain": "<Graph identifier=N63a120279d044d7096e764c56b4cf53a (<class 'rdflib.graph.Graph'>)>"
     },
     "execution_count": 15,
     "metadata": {},
     "output_type": "execute_result"
    }
   ],
   "source": [
    "spectral_type = STAR.Spectral_type\n",
    "ExoKG.add((spectral_type, type, Class))\n",
    "ExoKG.add((spectral_type, label, Literal(\"Spectral type\", lang=\"en\")))\n",
    "ExoKG.add((spectral_type, definition, Literal(\"Class of stars based on their spectral characteristics\", lang=\"en\")))\n",
    "ExoKG.add((spectral_type, same_as, DBP.Stellar_classification))\n",
    "\n",
    "planetary_system = EX.Planetary_system\n",
    "ExoKG.add((planetary_system, type, Class))\n",
    "ExoKG.add((planetary_system, label, Literal(\"Planetary system\", lang=\"en\")))\n",
    "ExoKG.add((planetary_system, definition, Literal(\"Groups of non-stellar objects in or out of orbit around a star or star system\", lang=\"en\")))\n",
    "ExoKG.add((planetary_system, same_as, DBP.Planetary_system))\n",
    "\n",
    "celestial_body = EX.Celestial_body\n",
    "ExoKG.add((celestial_body, type, Class))\n",
    "ExoKG.add((celestial_body, same_as, DBO.CelestialBody))\n",
    "\n",
    "star = EX.Star\n",
    "ExoKG.add((star, type, Class))\n",
    "ExoKG.add((star, RDFS.subClassOf, celestial_body))\n",
    "ExoKG.add((star, same_as, DBO.Star))\n",
    "\n",
    "exoplanet = EX.Exoplanet \n",
    "ExoKG.add((exoplanet, type, Class))\n",
    "ExoKG.add((exoplanet, RDFS.subClassOf, celestial_body))\n",
    "ExoKG.add((exoplanet, label, Literal(\"Exoplanet\", lang=\"en\")))\n",
    "ExoKG.add((exoplanet, definition, Literal(\"Any planet beyond the Solar System\", lang=\"en\")))\n",
    "ExoKG.add((exoplanet, same_as, DBR.Exoplanet))\n",
    "\n",
    "discovery_method = EXOPLANET.Discovery_method\n",
    "ExoKG.add((discovery_method, type, Class))\n",
    "ExoKG.add((discovery_method, same_as, DBO.detectionMethod))"
   ],
   "metadata": {
    "collapsed": false,
    "ExecuteTime": {
     "end_time": "2024-03-31T12:42:32.457268Z",
     "start_time": "2024-03-31T12:42:32.444058Z"
    }
   },
   "id": "8c9e0d79d573456c",
   "execution_count": 15
  },
  {
   "cell_type": "markdown",
   "source": [
    "5) Define properties"
   ],
   "metadata": {
    "collapsed": false
   },
   "id": "9bd35760d037daed"
  },
  {
   "cell_type": "code",
   "outputs": [
    {
     "data": {
      "text/plain": "<Graph identifier=N63a120279d044d7096e764c56b4cf53a (<class 'rdflib.graph.Graph'>)>"
     },
     "execution_count": 16,
     "metadata": {},
     "output_type": "execute_result"
    }
   ],
   "source": [
    "distance_from_earth = CELESTIAL_BODY.distance_from_earth\n",
    "ExoKG.add((distance_from_earth, type, Property))\n",
    "ExoKG.add((distance_from_earth, label, Literal(\"Distance from Earth\", lang=\"en\")))\n",
    "ExoKG.add((distance_from_earth, definition, Literal(\"Estimated distance to the celestial body (relative to Earth)\", lang=\"en\")))\n",
    "ExoKG.add((distance_from_earth, domain, celestial_body))\n",
    "ExoKG.add((distance_from_earth, range, quantitative_value))\n",
    "ExoKG.add((distance_from_earth, broader, DBO.distance))\n",
    "\n",
    "has_spectral_class = STAR.has_spectral_type\n",
    "ExoKG.add((has_spectral_class, type, Property))\n",
    "ExoKG.add((has_spectral_class, label, Literal(\"Is a star of type\")))\n",
    "ExoKG.add((has_spectral_class, definition, Literal(\"Classification of the star based on their spectral characteristics following the Morgan-Keenan system\", lang=\"en\")))\n",
    "ExoKG.add((has_spectral_class, domain, star))\n",
    "ExoKG.add((has_spectral_class, range, spectral_type))\n",
    "ExoKG.add((has_spectral_class, same_as, DBO.stellarClassification))\n",
    "\n",
    "n_stars = PLANETARY_SYSTEM.number_of_stars\n",
    "ExoKG.add((n_stars, type, Property))\n",
    "ExoKG.add((n_stars, label, Literal(\"Number of stars\", lang=\"en\")))\n",
    "ExoKG.add((n_stars, definition, Literal(\"Number of stars in the planetary system\", lang=\"en\")))\n",
    "ExoKG.add((n_stars, domain, planetary_system))\n",
    "ExoKG.add((n_stars, range, XSD.nonNegativeInteger))\n",
    "\n",
    "n_moons = PLANETARY_SYSTEM.number_of_moons\n",
    "ExoKG.add((n_moons, type, Property))\n",
    "ExoKG.add((n_moons, label, Literal(\"Number of moons\", lang=\"en\")))\n",
    "ExoKG.add((n_moons, definition, Literal(\"Number of moons in the planetary system\", lang=\"en\")))\n",
    "ExoKG.add((n_moons, domain, planetary_system))\n",
    "ExoKG.add((n_moons, range, XSD.nonNegativeInteger))\n",
    "\n",
    "n_planets = PLANETARY_SYSTEM.number_of_planets\n",
    "ExoKG.add((n_planets, type, Property))\n",
    "ExoKG.add((n_planets, label, Literal(\"Number of planets\", lang=\"en\")))\n",
    "ExoKG.add((n_planets, definition, Literal(\"Number of confirmed planets in the planetary system\", lang=\"en\")))\n",
    "ExoKG.add((n_planets, domain, planetary_system))\n",
    "ExoKG.add((n_planets, range, XSD.nonNegativeInteger))\n",
    "\n",
    "located_in = CELESTIAL_BODY.located_in\n",
    "ExoKG.add((located_in, type, Property))\n",
    "ExoKG.add((located_in, label, Literal(\"Located in\", lang=\"en\")))\n",
    "ExoKG.add((located_in, definition, Literal(\"Indicates that the celestial body is situated in a planetary system\", lang=\"en\")))\n",
    "ExoKG.add((located_in, domain, celestial_body))\n",
    "ExoKG.add((located_in, range, planetary_system))\n",
    "ExoKG.add((located_in, same_as, DBP.locatedIn))\n",
    "\n",
    "planet_letter = EXOPLANET.letter\n",
    "ExoKG.add((planet_letter, type, Property))\n",
    "ExoKG.add((planet_letter, label, Literal(\"Letter\", lang=\"en\")))\n",
    "ExoKG.add((planet_letter, definition, Literal(\"Letter assigned to the planetary component of a planetary system. The first exoplanet discovered in a system is designated b; the second, c; the third, d; and so on\")))\n",
    "ExoKG.add((planet_letter, domain, exoplanet))\n",
    "ExoKG.add((planet_letter, range, XSD.string))\n",
    "\n",
    "effective_temperature = STAR.effective_temperature\n",
    "ExoKG.add((effective_temperature, type, Property))\n",
    "ExoKG.add((effective_temperature, label, Literal(\"Effective temperature\", lang=\"en\")))\n",
    "ExoKG.add((effective_temperature, definition, Literal(\"Temperature of the star as modeled by a black body emitting the same total amount of electromagnetic radiation\", lang=\"en\")))\n",
    "ExoKG.add((effective_temperature, domain, star))\n",
    "ExoKG.add((effective_temperature, range, quantitative_value))\n",
    "ExoKG.add((effective_temperature, broader, DBP.temperature))\n",
    "\n",
    "luminosity = STAR.luminosity\n",
    "ExoKG.add((luminosity, type, Property))\n",
    "ExoKG.add((luminosity, label, Literal(\"Luminosity\", lang=\"en\")))\n",
    "ExoKG.add((luminosity, definition, Literal(\"Amount of energy emitted by a star per unit time\")))\n",
    "ExoKG.add((luminosity, domain, star))\n",
    "ExoKG.add((luminosity, range, quantitative_value))\n",
    "ExoKG.add((luminosity, same_as, DBP.luminosity))\n",
    "\n",
    "surface_gravity = STAR.surface_gravity\n",
    "ExoKG.add((surface_gravity, type, Property))\n",
    "ExoKG.add((surface_gravity, label, Literal(\"Surface gravity\", lang=\"en\")))\n",
    "ExoKG.add((surface_gravity, definition, Literal(\"Gravitational acceleration experienced at the stellar surface\", lang=\"en\")))\n",
    "ExoKG.add((surface_gravity, domain, star))\n",
    "ExoKG.add((surface_gravity, range, quantitative_value))\n",
    "ExoKG.add((surface_gravity, broader, DBO.surfaceGravity))\n",
    "\n",
    "age = CELESTIAL_BODY.age\n",
    "ExoKG.add((age, type, Property))\n",
    "ExoKG.add((age, label, Literal(\"Age\", lang=\"en\")))\n",
    "ExoKG.add((age, definition, Literal(\"Age of an astronomical object\", lang=\"en\")))\n",
    "ExoKG.add((age, domain, celestial_body))\n",
    "ExoKG.add((age, range, quantitative_value))\n",
    "ExoKG.add((age, same_as, DBP.age))\n",
    "\n",
    "rotational_velocity = STAR.rotational_velocity\n",
    "ExoKG.add((rotational_velocity, type, Property))\n",
    "ExoKG.add((rotational_velocity, label, Literal(\"Stellar rotational velocity\", lang=\"en\")))\n",
    "ExoKG.add((rotational_velocity, definition, Literal(\"Rotational velocity at the equator of the star multiplied by the sine of the inclination\", lang=\"en\")))\n",
    "ExoKG.add((rotational_velocity, domain, star))\n",
    "ExoKG.add((rotational_velocity, range, quantitative_value))\n",
    "ExoKG.add((rotational_velocity, same_as, DBP.rotationalVelocity))\n",
    "\n",
    "rotational_period = STAR.rotational_period\n",
    "ExoKG.add((rotational_period, type, Property))\n",
    "ExoKG.add((rotational_period, label, Literal(\"Stellar rotational period\", lang=\"en\")))\n",
    "ExoKG.add((rotational_period, definition, Literal(\"Time required for the star to complete one rotation, assuming it is a solid body\", lang=\"en\")))\n",
    "ExoKG.add((rotational_period, domain, star))\n",
    "ExoKG.add((rotational_period, range, quantitative_value))\n",
    "ExoKG.add((rotational_period, same_as, DBO.rotationPeriod))\n",
    "\n",
    "radial_velocity = STAR.radial_velocity\n",
    "ExoKG.add((radial_velocity, type, Property))\n",
    "ExoKG.add((radial_velocity, label, Literal(\"Radial velocity\", lang=\"en\")))\n",
    "ExoKG.add((radial_velocity, definition, Literal(\"Velocity of the star in the direction of the line of sight\", lang=\"en\")))\n",
    "ExoKG.add((radial_velocity, domain, star))\n",
    "ExoKG.add((radial_velocity, range, quantitative_value))\n",
    "ExoKG.add((radial_velocity, same_as, DBP.radialV))\n",
    "\n",
    "orbital_period = EXOPLANET.orbital_period\n",
    "ExoKG.add((orbital_period, type, Property))\n",
    "ExoKG.add((orbital_period, label, Literal(\"Orbital period\", lang=\"en\")))\n",
    "ExoKG.add((orbital_period, definition, Literal(\"Time the planet takes to make a complete orbit around the host star or system\", lang=\"en\")))\n",
    "ExoKG.add((orbital_period, domain, exoplanet))\n",
    "ExoKG.add((orbital_period, range, quantitative_value))\n",
    "ExoKG.add((orbital_period, same_as, DBO.orbitalPeriod))\n",
    "\n",
    "longest_radius = EXOPLANET.longest_radius\n",
    "ExoKG.add((longest_radius, type, Property))\n",
    "ExoKG.add((longest_radius, label, Literal(\"Longest radius\", lang=\"en\")))\n",
    "ExoKG.add((longest_radius, definition, Literal(\"The longest radius of an elliptic orbit, or the projected separation in the plane of the sky\", lang=\"en\")))\n",
    "ExoKG.add((longest_radius, domain, exoplanet))\n",
    "ExoKG.add((longest_radius, range, quantitative_value))\n",
    "ExoKG.add((longest_radius, same_as, DBP.semimajor))\n",
    "\n",
    "radius = CELESTIAL_BODY.radius\n",
    "ExoKG.add((radius, type, Property))\n",
    "ExoKG.add((radius, label, Literal(\"Radius\", lang=\"en\")))\n",
    "ExoKG.add((radius, definition, Literal(\"Length of a line segment from the center of the celestial body to its surface\", lang=\"en\")))\n",
    "ExoKG.add((radius, domain, celestial_body))\n",
    "ExoKG.add((radius, range, quantitative_value))\n",
    "ExoKG.add((radius, RDFS.subPropertyOf, DBO.length))\n",
    "\n",
    "mass = CELESTIAL_BODY.mass\n",
    "ExoKG.add((mass, type, Property))\n",
    "ExoKG.add((mass, label, Literal(\"Mass\", lang=\"en\")))\n",
    "ExoKG.add((mass, definition, Literal(\"Mass of the celestial body\", lang=\"en\")))\n",
    "ExoKG.add((mass, domain, celestial_body))\n",
    "ExoKG.add((mass, range, quantitative_value))\n",
    "ExoKG.add((mass, RDFS.subPropertyOf, DBO.mass))\n",
    "\n",
    "orbital_eccentricity = EXOPLANET.orbital_eccentricity\n",
    "ExoKG.add((orbital_eccentricity, type, Property))\n",
    "ExoKG.add((orbital_eccentricity, label, Literal(\"Orbital eccentricity\", lang=\"en\")))\n",
    "ExoKG.add((orbital_eccentricity, definition, Literal(\"Amount by which the orbit of the planet deviates from a perfect circle\", lang=\"en\")))\n",
    "ExoKG.add((orbital_eccentricity, domain, exoplanet))\n",
    "ExoKG.add((orbital_eccentricity, range, quantitative_value))\n",
    "ExoKG.add((orbital_eccentricity, same_as, DBO.orbitalEccentricity))\n",
    "\n",
    "density = CELESTIAL_BODY.density\n",
    "ExoKG.add((density, type, Property))\n",
    "ExoKG.add((density, label, Literal(\"Density\", lang=\"en\")))\n",
    "ExoKG.add((density, definition, Literal(\"Amount of mass per unit of volume of the celestial body\", lang=\"en\")))\n",
    "ExoKG.add((density, domain, celestial_body))\n",
    "ExoKG.add((density, range, quantitative_value))\n",
    "ExoKG.add((density, broader, DBO.density))\n",
    "\n",
    "insolation_flux = EXOPLANET.insolation_flux\n",
    "ExoKG.add((insolation_flux, type, Property))\n",
    "ExoKG.add((insolation_flux, label, Literal(\"Insolation flux\", lang=\"en\")))\n",
    "ExoKG.add((insolation_flux, definition, Literal(\"Insolation flux is another way to give the equilibrium temperature. It's given in units relative to those measured for the Earth from the Sun\")))\n",
    "ExoKG.add((insolation_flux, domain, exoplanet))\n",
    "ExoKG.add((insolation_flux, range, quantitative_value))\n",
    "ExoKG.add((insolation_flux, broader, DBP.flux))\n",
    "\n",
    "equilibrium_temperature = EXOPLANET.equilibrium_temperature\n",
    "ExoKG.add((equilibrium_temperature, type, Property))\n",
    "ExoKG.add((equilibrium_temperature, label, Literal(\"Equilibrium temperature\", lang=\"en\")))\n",
    "ExoKG.add((equilibrium_temperature, definition, Literal(\"The equilibrium temperature of the planet as modeled by a black body heated only by its host star, or for directly imaged planets, the effective temperature of the planet required to match the measured luminosity if the planet were a black body\", lang=\"en\")))\n",
    "ExoKG.add((equilibrium_temperature, domain, exoplanet))\n",
    "ExoKG.add((equilibrium_temperature, range, quantitative_value))\n",
    "ExoKG.add((equilibrium_temperature, broader, DBP.temperature))\n",
    "\n",
    "inclination = EXOPLANET.inclination\n",
    "ExoKG.add((inclination, type, Property))\n",
    "ExoKG.add((inclination, label, Literal(\"Inclination\", lang=\"en\")))\n",
    "ExoKG.add((inclination, definition, Literal(\"Angle of the plane of the orbit relative to the plane perpendicular to the line-of-sight from Earth to the object\", lang=\"en\")))\n",
    "ExoKG.add((inclination, domain, exoplanet))\n",
    "ExoKG.add((inclination, range, quantitative_value))\n",
    "ExoKG.add((inclination, same_as, DBP.inclination))\n",
    "\n",
    "true_obliquity = EXOPLANET.obliquity\n",
    "ExoKG.add((true_obliquity, type, Property))\n",
    "ExoKG.add((true_obliquity, label, Literal(\"Obliquity\", lang=\"en\")))\n",
    "ExoKG.add((true_obliquity, definition, Literal(\"Angle between the angular momentum vector of the rotation of the host star and the angular momentum vector of the orbit of the planet\", lang=\"en\")))\n",
    "ExoKG.add((true_obliquity, domain, exoplanet))\n",
    "ExoKG.add((true_obliquity, range, quantitative_value))\n",
    "ExoKG.add((true_obliquity, broader, DBP.angle))\n",
    "\n",
    "ratio_planet_stellar_radius = EXOPLANET.ratio_planet_stellar_radius\n",
    "ExoKG.add((ratio_planet_stellar_radius, type, Property))\n",
    "ExoKG.add((ratio_planet_stellar_radius, label, Literal(\"Ratio between planet and stellar radius\", lang=\"en\")))\n",
    "ExoKG.add((ratio_planet_stellar_radius, definition, Literal(\"The planet radius divided by the stellar radius\", lang=\"en\")))\n",
    "ExoKG.add((ratio_planet_stellar_radius, domain, exoplanet))\n",
    "ExoKG.add((ratio_planet_stellar_radius, range, quantitative_value))\n",
    "ExoKG.add((ratio_planet_stellar_radius, broader, DBP.ratio))\n",
    "\n",
    "orbits_around = EXOPLANET.orbits_around\n",
    "ExoKG.add((orbits_around, type, Property))\n",
    "ExoKG.add((orbits_around, label, Literal(\"Orbits around\", lang=\"en\")))\n",
    "ExoKG.add((orbits_around, definition, Literal(\"Indicates that an exoplanet orbits around a given star or star system\", lang=\"en\")))\n",
    "ExoKG.add((orbits_around, domain, exoplanet))\n",
    "ExoKG.add((orbits_around, range, star))\n",
    "ExoKG.add((orbits_around, same_as, DBP.star))"
   ],
   "metadata": {
    "collapsed": false,
    "ExecuteTime": {
     "end_time": "2024-03-31T12:42:32.477866Z",
     "start_time": "2024-03-31T12:42:32.460230Z"
    }
   },
   "id": "f6b42a82aff3b1e1",
   "execution_count": 16
  },
  {
   "cell_type": "markdown",
   "source": [
    "### 5. Create RDF representation of the data"
   ],
   "metadata": {
    "collapsed": false
   },
   "id": "cf9795845fd250dd"
  },
  {
   "cell_type": "markdown",
   "source": [
    "1. Add discovery methods"
   ],
   "metadata": {
    "collapsed": false
   },
   "id": "e7bffe02e48b231e"
  },
  {
   "cell_type": "code",
   "outputs": [],
   "source": [
    "for x in ps[\"discoverymethod\"].unique():\n",
    "    discovery_method_uri = DISCOVERY[\"method/\" + format_name(name=x)]\n",
    "    ExoKG.add((discovery_method_uri, type, discovery_method))\n",
    "    ExoKG.add((discovery_method_uri, label, Literal(x, lang=\"en\")))"
   ],
   "metadata": {
    "collapsed": false,
    "ExecuteTime": {
     "end_time": "2024-03-31T12:42:32.481163Z",
     "start_time": "2024-03-31T12:42:32.479745Z"
    }
   },
   "id": "73fe1d2b871775f1",
   "execution_count": 17
  },
  {
   "cell_type": "markdown",
   "source": [
    "2. Add systems data"
   ],
   "metadata": {
    "collapsed": false
   },
   "id": "f0f0666ad5349bd6"
  },
  {
   "cell_type": "code",
   "outputs": [],
   "source": [
    "system_data = stellar.groupby(by=\"sy_name\").agg(\n",
    "    {\n",
    "        x: \"first\" for x in [\n",
    "            \"sy_dist\", \"sy_disterr1\", \"sy_disterr2\", \"sy_snum\", \"sy_pnum\", \"sy_mnum\"\n",
    "        ]\n",
    "    }\n",
    ")\n",
    "\n",
    "for system_name, row in system_data.iterrows():\n",
    "    system_uri = PLANETARY_SYSTEM[format_name(name=system_name)]\n",
    "    \n",
    "    # Add distance from earth to system\n",
    "    system_distance = row[\"sy_dist\"]\n",
    "    if not pd.isna(system_distance):\n",
    "        distance_uri = create_quantitative_value(\n",
    "            value=system_distance, \n",
    "            min_eps=row[\"sy_disterr2\"], \n",
    "            max_eps=row[\"sy_disterr1\"], \n",
    "            unit=parsec,\n",
    "            name=system_name,\n",
    "            param=\"sy_dist\"\n",
    "        )\n",
    "        ExoKG.add((system_uri, distance_from_earth, distance_uri))\n",
    "        \n",
    "        # Add system parameters\n",
    "        ExoKG.add((system_uri, type, planetary_system))\n",
    "        ExoKG.add((system_uri, label, Literal(system_name, datatype=XSD.string)))\n",
    "        ExoKG.add((system_uri, identifier, URIRef(f\"https://exoplanetarchive.ipac.caltech.edu/overview/{system_name.replace(' ', '%20')}\")))\n",
    "        ExoKG.add((system_uri, n_stars, Literal(int(row[\"sy_snum\"]), datatype=XSD.nonNegativeInteger)))\n",
    "        ExoKG.add((system_uri, n_planets, Literal(int(row[\"sy_pnum\"]), datatype=XSD.nonNegativeInteger)))\n",
    "        ExoKG.add((system_uri, n_moons, Literal(int(row[\"sy_mnum\"]), datatype=XSD.nonNegativeInteger)))"
   ],
   "metadata": {
    "collapsed": false,
    "ExecuteTime": {
     "end_time": "2024-03-31T12:42:33.343254Z",
     "start_time": "2024-03-31T12:42:32.485466Z"
    }
   },
   "id": "e79980a7fb064ad3",
   "execution_count": 18
  },
  {
   "cell_type": "markdown",
   "source": [
    "3. Add stellars data"
   ],
   "metadata": {
    "collapsed": false
   },
   "id": "642994fcebcf3446"
  },
  {
   "cell_type": "code",
   "outputs": [],
   "source": [
    "# Check if all stars from the 'ps' table are indeed in the 'stellar' table\n",
    "stars_ps = set(ps[\"hostname\"])\n",
    "stars_stellar = set(stellar[\"hostname\"])\n",
    "assert not stars_ps - stars_stellar, \"Some stars from the 'ps' table are not in the 'stellar' table\""
   ],
   "metadata": {
    "collapsed": false,
    "ExecuteTime": {
     "end_time": "2024-03-31T12:42:33.343615Z",
     "start_time": "2024-03-31T12:42:33.324511Z"
    }
   },
   "id": "9b19cd9e3089161d",
   "execution_count": 19
  },
  {
   "cell_type": "code",
   "outputs": [],
   "source": [
    "# Columns are log-scaled, which is not accepted as a common UCUM unit\n",
    "stellar[\"st_logg\"] = np.power(10, stellar[\"st_logg\"])\n",
    "stellar[\"st_lum\"] = np.power(10, stellar[\"st_lum\"])"
   ],
   "metadata": {
    "collapsed": false,
    "ExecuteTime": {
     "end_time": "2024-03-31T12:42:33.343754Z",
     "start_time": "2024-03-31T12:42:33.327071Z"
    }
   },
   "id": "275294d452bf33b5",
   "execution_count": 20
  },
  {
   "cell_type": "code",
   "outputs": [],
   "source": [
    "# There is an issue in the spectral type of HR 8799, being 'F0+ V ({lambda} Boo)...'\n",
    "stellar.loc[stellar[\"hostname\"] == \"HR 8799\", \"st_spectype\"] = \"A5 V\""
   ],
   "metadata": {
    "collapsed": false,
    "ExecuteTime": {
     "end_time": "2024-03-31T12:42:33.343883Z",
     "start_time": "2024-03-31T12:42:33.331976Z"
    }
   },
   "id": "db896519e33bf6dc",
   "execution_count": 21
  },
  {
   "cell_type": "code",
   "outputs": [],
   "source": [
    "# Add parameters to be non-relative to the Sun\n",
    "stellar = stellar.rename(columns={\n",
    "    \"st_rad\": \"st_rads\", \n",
    "    \"st_raderr1\": \"st_radserr1\", \n",
    "    \"st_raderr2\": \"st_radserr2\", \n",
    "    \"st_mass\": \"st_masss\", \n",
    "    \"st_masserr1\": \"st_massserr1\",\n",
    "    \"st_masserr2\": \"st_massserr2\",\n",
    "    \"st_lum\": \"st_lums\",\n",
    "    \"st_lumerr1\": \"st_lumserr1\",\n",
    "    \"st_lumerr2\": \"st_lumserr2\",\n",
    "})\n",
    "\n",
    "stellar[\"st_rad\"] = stellar[\"st_rads\"] * 6.955e8\n",
    "stellar[\"st_raderr1\"] = stellar[\"st_radserr1\"] * 6.955e8\n",
    "stellar[\"st_raderr2\"] = stellar[\"st_radserr2\"] * 6.955e8\n",
    "\n",
    "stellar[\"st_mass\"] = stellar[\"st_masss\"] * 1.98892e30\n",
    "stellar[\"st_masserr1\"] = stellar[\"st_massserr1\"] * 1.98892e30\n",
    "stellar[\"st_masserr2\"] = stellar[\"st_massserr2\"] * 1.98892e30\n",
    "\n",
    "stellar[\"st_lum\"] = stellar[\"st_lums\"] * 3.839e26\n",
    "stellar[\"st_lumerr1\"] = stellar[\"st_lumserr1\"] * 3.839e26\n",
    "stellar[\"st_lumerr2\"] = stellar[\"st_lumserr2\"] * 3.839e26"
   ],
   "metadata": {
    "collapsed": false,
    "ExecuteTime": {
     "end_time": "2024-03-31T12:42:33.426204Z",
     "start_time": "2024-03-31T12:42:33.335586Z"
    }
   },
   "id": "a9b4a750ff6936d2",
   "execution_count": 22
  },
  {
   "cell_type": "code",
   "outputs": [],
   "source": [
    "# TODO: \"st_met\", \"st_meterr1\", \"st_meterr2\"\n",
    "# TODO: add system position!!\n",
    "stellar_parameters = {\n",
    "    \"st_teff\" : { PARAM_NAME: effective_temperature, PARAM_UNIT: kelvin },\n",
    "    \"st_rad\"  : { PARAM_NAME: radius,                PARAM_UNIT: kilometer },\n",
    "    \"st_rads\" : { PARAM_NAME: radius,                PARAM_UNIT: solar_radius },\n",
    "    \"st_mass\" : { PARAM_NAME: mass,                  PARAM_UNIT: kilogram },\n",
    "    \"st_masss\": { PARAM_NAME: mass,                  PARAM_UNIT: solar_mass },\n",
    "    \"st_lum\"  : { PARAM_NAME: luminosity,            PARAM_UNIT: watt },\n",
    "    \"st_lums\" : { PARAM_NAME: luminosity,            PARAM_UNIT: solar_luminosity },\n",
    "    \"st_logg\" : { PARAM_NAME: surface_gravity,       PARAM_UNIT: cm_s2 },\n",
    "    \"st_age\"  : { PARAM_NAME: age,                   PARAM_UNIT: gigayear },\n",
    "    \"st_dens\" : { PARAM_NAME: density,               PARAM_UNIT: g_cm3 },\n",
    "    \"st_vsin\" : { PARAM_NAME: rotational_velocity,   PARAM_UNIT: km_s },\n",
    "    \"st_rotp\" : { PARAM_NAME: rotational_period,     PARAM_UNIT: days },\n",
    "    \"st_radv\" : { PARAM_NAME: radial_velocity,       PARAM_UNIT: km_s }\n",
    "}\n",
    "\n",
    "stellar_filtered = stellar.groupby(by=\"hostname\").agg({x: \"first\" for x in stellar.columns})\n",
    "for _, row in stellar_filtered.iterrows():\n",
    "    # Get system\n",
    "    system_name = row[\"sy_name\"]\n",
    "    system_uri = PLANETARY_SYSTEM[format_name(name=system_name)]\n",
    "    \n",
    "    # Add star to star-system\n",
    "    host_name = row[\"hostname\"]\n",
    "    host_uri = STAR[format_name(name=host_name)]\n",
    "    ExoKG.add((host_uri, type, star))\n",
    "    ExoKG.add((host_uri, label, Literal(host_name, datatype=XSD.string)))\n",
    "    ExoKG.add((host_uri, located_in, system_uri))\n",
    "    ExoKG.add((host_uri, identifier, URIRef(f\"https://exoplanetarchive.ipac.caltech.edu/overview/{system_name.replace(' ', '%20')}#star_{host_name.replace(' ', '-')}_collapsible\")))\n",
    "    \n",
    "    # Add stellar parameters\n",
    "    add_object_parameters(\n",
    "        object_uri=host_uri, \n",
    "        object_row=row,\n",
    "        parameters=stellar_parameters, \n",
    "        name=host_name\n",
    "    )"
   ],
   "metadata": {
    "collapsed": false,
    "ExecuteTime": {
     "end_time": "2024-03-31T12:42:37.936284Z",
     "start_time": "2024-03-31T12:42:33.380198Z"
    }
   },
   "id": "1c129660ac88697c",
   "execution_count": 23
  },
  {
   "cell_type": "markdown",
   "source": [
    "4. Add planets data"
   ],
   "metadata": {
    "collapsed": false
   },
   "id": "d1791a6a74900c78"
  },
  {
   "cell_type": "code",
   "outputs": [],
   "source": [
    "# Add parameters to be non-relative to Earth\n",
    "ps = ps.rename(columns={\n",
    "    \"pl_insol\": \"pl_insole\", \n",
    "    \"pl_insolerr1\": \"pl_insoleerr1\", \n",
    "    \"pl_insolerr2\": \"pl_insoleerr2\",\n",
    "})\n",
    "\n",
    "ps[\"pl_rad\"] = ps[\"pl_rade\"] * 6378.137\n",
    "ps[\"pl_raderr1\"] = ps[\"pl_radeerr1\"] * 6378.137\n",
    "ps[\"pl_raderr2\"] = ps[\"pl_radeerr2\"] * 6378.137\n",
    "\n",
    "ps[\"pl_bmass\"] = ps[\"pl_bmasse\"] * 5.9724e+24\n",
    "ps[\"pl_bmasserr1\"] = ps[\"pl_bmasseerr1\"] * 5.9724e+24\n",
    "ps[\"pl_bmasserr2\"] = ps[\"pl_bmasseerr2\"] * 5.9724e+24\n",
    "\n",
    "ps[\"pl_insol\"] = ps[\"pl_insole\"] * 1361\n",
    "ps[\"pl_insolerr1\"] = ps[\"pl_insoleerr1\"] * 1361\n",
    "ps[\"pl_insolerr2\"] = ps[\"pl_insoleerr2\"] * 1361"
   ],
   "metadata": {
    "collapsed": false,
    "ExecuteTime": {
     "end_time": "2024-03-31T12:42:37.946449Z",
     "start_time": "2024-03-31T12:42:37.936579Z"
    }
   },
   "id": "48406ba2aef55a70",
   "execution_count": 24
  },
  {
   "cell_type": "code",
   "outputs": [],
   "source": [
    "planet_parameters = {\n",
    "    \"pl_orbper\"   : { PARAM_NAME: orbital_period,              PARAM_UNIT: days },\n",
    "    \"pl_orbsmax\"  : { PARAM_NAME: longest_radius,              PARAM_UNIT: astronomical_units },\n",
    "    \"pl_rad\"      : { PARAM_NAME: radius,                      PARAM_UNIT: kilometer },\n",
    "    \"pl_rade\"     : { PARAM_NAME: radius,                      PARAM_UNIT: earth_radius },\n",
    "    \"pl_radj\"     : { PARAM_NAME: radius,                      PARAM_UNIT: jupiter_radius },\n",
    "    \"pl_bmass\"    : { PARAM_NAME: mass,                        PARAM_UNIT: kilogram },\n",
    "    \"pl_bmasse\"   : { PARAM_NAME: mass,                        PARAM_UNIT: earth_mass },\n",
    "    \"pl_bmassj\"   : { PARAM_NAME: mass,                        PARAM_UNIT: jupiter_mass },\n",
    "    \"pl_dens\"     : { PARAM_NAME: density,                     PARAM_UNIT: g_cm3 },\n",
    "    \"pl_orbeccen\" : { PARAM_NAME: orbital_eccentricity,        PARAM_UNIT: None },\n",
    "    \"pl_insol\"    : { PARAM_NAME: insolation_flux,             PARAM_UNIT: w_m2 },\n",
    "    \"pl_insole\"   : { PARAM_NAME: insolation_flux,             PARAM_UNIT: earth_flux },\n",
    "    \"pl_eqt\"      : { PARAM_NAME: equilibrium_temperature,     PARAM_UNIT: kelvin },\n",
    "    \"pl_orbincl\"  : { PARAM_NAME: inclination,                 PARAM_UNIT: degree },\n",
    "    \"pl_trueobliq\": { PARAM_NAME: true_obliquity,              PARAM_UNIT: degree },\n",
    "    \"pl_ratror\"   : { PARAM_NAME: ratio_planet_stellar_radius, PARAM_UNIT: None },\n",
    "}\n",
    "\n",
    "for _, row in ps.iterrows():\n",
    "    # Add planet\n",
    "    planet_name = row[\"pl_name\"]\n",
    "    planet_uri = EXOPLANET[format_name(name=planet_name)]\n",
    "    ExoKG.add((planet_uri, type, exoplanet))\n",
    "    ExoKG.add((planet_uri, label, Literal(planet_name, datatype=XSD.string)))\n",
    "    ExoKG.add((planet_uri, planet_letter, Literal(row[\"pl_letter\"], datatype=XSD.string)))\n",
    "    \n",
    "    # Add star\n",
    "    host = row[\"hostname\"]\n",
    "    host_uri = STAR[format_name(name=host)]\n",
    "    ExoKG.add((planet_uri, orbits_around, host_uri))\n",
    "    \n",
    "    # Add stellar type\n",
    "    star_type = row[\"st_spectype\"]\n",
    "    if not pd.isna(star_type):\n",
    "        star_type_uri = STAR[f\"type/{format_name(name=star_type)}\"]    \n",
    "        ExoKG.add((star_type_uri, type, spectral_type))\n",
    "        ExoKG.add((star_type_uri, label, Literal(star_type, lang=\"en\")))\n",
    "        ExoKG.add((host_uri, has_spectral_class, star_type_uri))\n",
    "    \n",
    "    # Add system\n",
    "    system = stellar[stellar[\"hostname\"] == host][\"sy_name\"].iloc[0]\n",
    "    system_uri = PLANETARY_SYSTEM[format_name(name=system)]\n",
    "    ExoKG.add((planet_uri, located_in, system_uri))\n",
    "    ExoKG.add((planet_uri, identifier, URIRef(f\"https://exoplanetarchive.ipac.caltech.edu/overview/{system.replace(' ', '%20')}#planet_{planet_name.replace(' ', '-')}_collapsible\")))\n",
    "    \n",
    "    # Add discovery TODO\n",
    "    discovery_uri = DISCOVERY[format_name(name=planet_name)]\n",
    "    discovery_method_uri = DISCOVERY[\"method/\" + format_name(name=row[\"discoverymethod\"])]\n",
    "    ExoKG.add((discovery_uri, type, SCHEMA.Observation))\n",
    "    ExoKG.add((discovery_uri, SCHEMA.discovered, Literal(row[\"disc_year\"], datatype=XSD.gYear)))\n",
    "    ExoKG.add((discovery_uri, SCHEMA.about, planet_uri))\n",
    "    ExoKG.add((discovery_uri, DBO.detectionMethod, discovery_method_uri))\n",
    "    ExoKG.add((discovery_uri, EX.place, Literal(row[\"disc_facility\"], lang=\"en\")))  # TODO: this should be a facility element\n",
    "    ExoKG.add((discovery_uri, SCHEMA.measurementMethod, Literal(row[\"disc_instrument\"], lang=\"en\")))\n",
    "    \n",
    "    # Add planet parameters\n",
    "    add_object_parameters(\n",
    "        object_uri=planet_uri,\n",
    "        object_row=row, \n",
    "        parameters=planet_parameters, \n",
    "        name=planet_name\n",
    "    )"
   ],
   "metadata": {
    "collapsed": false,
    "ExecuteTime": {
     "end_time": "2024-03-31T12:42:52.651709Z",
     "start_time": "2024-03-31T12:42:37.946848Z"
    }
   },
   "id": "82cb2f08bce0e1b3",
   "execution_count": 25
  },
  {
   "cell_type": "markdown",
   "source": [
    "### 6. Export graph"
   ],
   "metadata": {
    "collapsed": false
   },
   "id": "92a3421e81c117b1"
  },
  {
   "cell_type": "code",
   "outputs": [
    {
     "data": {
      "text/plain": "<Graph identifier=N63a120279d044d7096e764c56b4cf53a (<class 'rdflib.graph.Graph'>)>"
     },
     "execution_count": 26,
     "metadata": {},
     "output_type": "execute_result"
    }
   ],
   "source": [
    "ExoKG.serialize(destination=\"planetary_systems_with_confirmed_exoplanets_KG.ttl\", format=\"ttl\")"
   ],
   "metadata": {
    "collapsed": false,
    "ExecuteTime": {
     "end_time": "2024-03-31T12:43:19.613224Z",
     "start_time": "2024-03-31T12:42:52.652269Z"
    }
   },
   "id": "732413249c7f13b5",
   "execution_count": 26
  },
  {
   "cell_type": "code",
   "outputs": [],
   "source": [
    "ESA = Namespace(\"http://astrothesaurus.org/uat/\")\n",
    "\n",
    "ExoKG.bind(\"esa\", ESA)\n",
    "ExoKG.bind(\"exoplanet\", EXOPLANET)"
   ],
   "metadata": {
    "collapsed": false,
    "ExecuteTime": {
     "end_time": "2024-03-31T12:43:19.613488Z",
     "start_time": "2024-03-31T12:43:19.588722Z"
    }
   },
   "id": "a927570aea57e8ab",
   "execution_count": 27
  },
  {
   "cell_type": "code",
   "outputs": [],
   "source": [
    "discovery_methods_mappings = {\n",
    "    \"Transit\": ESA[\"1709\"],\n",
    "    \"Radial Velocity\": ESA[\"1332\"],\n",
    "    \"Imaging\": ESA[\"387\"],\n",
    "    \"Transit Timing Variations\": ESA[\"1710\"],\n",
    "    \"Microlensing\": ESA[\"2147\"],\n",
    "    \"Orbital Brightness Modulation\": ESA[\"182\"],\n",
    "    \"Astrometry\": ESA[\"2130\"],\n",
    "    \"Eclipse Timing Variations\": ESA[\"443\"],\n",
    "    \"Pulsar Timing\": ESA[\"1305\"],\n",
    "    \"Pulsation Timing Variations\": ESA[\"1305\"],\n",
    "    \"Disk Kinematics\": ESA[\"888\"]\n",
    "}\n",
    "\n",
    "for x in ps[\"discoverymethod\"].unique():\n",
    "    discovery_method_uri = DISCOVERY[\"method/\" + format_name(name=x)]\n",
    "    ExoKG.add((discovery_method_uri, SKOS.exactMatching, discovery_methods_mappings[x]))"
   ],
   "metadata": {
    "collapsed": false,
    "ExecuteTime": {
     "end_time": "2024-03-31T12:43:19.613659Z",
     "start_time": "2024-03-31T12:43:19.605234Z"
    }
   },
   "id": "e10a2bfecf7c2d63",
   "execution_count": 28
  },
  {
   "cell_type": "code",
   "outputs": [],
   "source": [
    "# TODO: add labels and descriptions to all properties and classes!\n",
    "# TODO: add references everywhere!\n",
    "# TODO: check that there is no namespace accessed anymore in the code flow (only defined at the top)\n",
    "# TODO: try to use https://dbpedia.org/ontology/CelestialBody as much as possible\n",
    "# TODO: check for anything that is missing from the data\n",
    "# TODO: make everything my own vocabulary and link to existing ontologies\n",
    "# TODO: if cannot find sameAs, then should add label, definition, range, domain, broader, etc"
   ],
   "metadata": {
    "collapsed": false,
    "ExecuteTime": {
     "end_time": "2024-03-31T12:43:19.627436Z",
     "start_time": "2024-03-31T12:43:19.607526Z"
    }
   },
   "id": "2877747ec330ca7e",
   "execution_count": 29
  }
 ],
 "metadata": {
  "kernelspec": {
   "display_name": "Python 3",
   "language": "python",
   "name": "python3"
  },
  "language_info": {
   "codemirror_mode": {
    "name": "ipython",
    "version": 2
   },
   "file_extension": ".py",
   "mimetype": "text/x-python",
   "name": "python",
   "nbconvert_exporter": "python",
   "pygments_lexer": "ipython2",
   "version": "2.7.6"
  }
 },
 "nbformat": 4,
 "nbformat_minor": 5
}
