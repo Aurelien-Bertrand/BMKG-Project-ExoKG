{
 "cells": [
  {
   "cell_type": "markdown",
   "metadata": {},
   "source": [
    "# BMKG Project\n",
    "## Author: Aurélien Bertrand - I6256590\n",
    "\n",
    "This notebook is intended to create sample SPARQL queries to assess the graph quality and address the key research questions defined in the report."
   ]
  },
  {
   "cell_type": "markdown",
   "source": [
    "### 1. Import libraries"
   ],
   "metadata": {
    "collapsed": false
   }
  },
  {
   "cell_type": "code",
   "outputs": [
    {
     "name": "stdout",
     "output_type": "stream",
     "text": [
      "Requirement already satisfied: pandas in /usr/local/Caskroom/miniconda/base/lib/python3.11/site-packages (2.1.1)\r\n",
      "Requirement already satisfied: oxrdflib in /usr/local/Caskroom/miniconda/base/lib/python3.11/site-packages (0.3.6)\r\n",
      "Requirement already satisfied: Pygments in /usr/local/Caskroom/miniconda/base/lib/python3.11/site-packages (2.15.1)\r\n",
      "Requirement already satisfied: rdfpandas in /usr/local/Caskroom/miniconda/base/lib/python3.11/site-packages (1.1.6)\r\n",
      "Requirement already satisfied: numpy>=1.23.2 in /usr/local/Caskroom/miniconda/base/lib/python3.11/site-packages (from pandas) (1.26.0)\r\n",
      "Requirement already satisfied: python-dateutil>=2.8.2 in /usr/local/Caskroom/miniconda/base/lib/python3.11/site-packages (from pandas) (2.8.2)\r\n",
      "Requirement already satisfied: pytz>=2020.1 in /usr/local/Caskroom/miniconda/base/lib/python3.11/site-packages (from pandas) (2023.3.post1)\r\n",
      "Requirement already satisfied: tzdata>=2022.1 in /usr/local/Caskroom/miniconda/base/lib/python3.11/site-packages (from pandas) (2023.3)\r\n",
      "Requirement already satisfied: pyoxigraph~=0.3.14 in /usr/local/Caskroom/miniconda/base/lib/python3.11/site-packages (from oxrdflib) (0.3.22)\r\n",
      "Requirement already satisfied: rdflib<8.0,>=6.3 in /usr/local/Caskroom/miniconda/base/lib/python3.11/site-packages (from oxrdflib) (7.0.0)\r\n",
      "Requirement already satisfied: six>=1.5 in /usr/local/Caskroom/miniconda/base/lib/python3.11/site-packages (from python-dateutil>=2.8.2->pandas) (1.16.0)\r\n",
      "Requirement already satisfied: isodate<0.7.0,>=0.6.0 in /usr/local/Caskroom/miniconda/base/lib/python3.11/site-packages (from rdflib<8.0,>=6.3->oxrdflib) (0.6.1)\r\n",
      "Requirement already satisfied: pyparsing<4,>=2.1.0 in /usr/local/Caskroom/miniconda/base/lib/python3.11/site-packages (from rdflib<8.0,>=6.3->oxrdflib) (3.0.9)\r\n"
     ]
    }
   ],
   "source": [
    "!pip install pandas oxrdflib Pygments rdfpandas"
   ],
   "metadata": {
    "collapsed": false,
    "ExecuteTime": {
     "end_time": "2024-03-31T12:45:26.902857Z",
     "start_time": "2024-03-31T12:45:24.993580Z"
    }
   },
   "execution_count": 1
  },
  {
   "cell_type": "code",
   "outputs": [
    {
     "name": "stdout",
     "output_type": "stream",
     "text": [
      "Intel MKL WARNING: Support of Intel(R) Streaming SIMD Extensions 4.2 (Intel(R) SSE4.2) enabled only processors has been deprecated. Intel oneAPI Math Kernel Library 2025.0 will require Intel(R) Advanced Vector Extensions (Intel(R) AVX) instructions.\n",
      "Intel MKL WARNING: Support of Intel(R) Streaming SIMD Extensions 4.2 (Intel(R) SSE4.2) enabled only processors has been deprecated. Intel oneAPI Math Kernel Library 2025.0 will require Intel(R) Advanced Vector Extensions (Intel(R) AVX) instructions.\n"
     ]
    }
   ],
   "source": [
    "import pandas as pd\n",
    "from IPython.display import display\n",
    "from IPython.display import HTML\n",
    "from pygments import highlight\n",
    "from pygments.lexers import SparqlLexer\n",
    "from pygments.formatters import HtmlFormatter\n",
    "from rdflib import Graph"
   ],
   "metadata": {
    "collapsed": false,
    "ExecuteTime": {
     "end_time": "2024-03-31T12:45:27.691172Z",
     "start_time": "2024-03-31T12:45:26.904516Z"
    }
   },
   "execution_count": 2
  },
  {
   "cell_type": "markdown",
   "source": [
    "### 2. Define function to run query"
   ],
   "metadata": {
    "collapsed": false
   }
  },
  {
   "cell_type": "code",
   "execution_count": 3,
   "metadata": {
    "ExecuteTime": {
     "end_time": "2024-03-31T12:45:27.704007Z",
     "start_time": "2024-03-31T12:45:27.692452Z"
    }
   },
   "outputs": [],
   "source": [
    "def run_query(graph, query):\n",
    "    # Execute the SPARQL query\n",
    "    results = graph.query(query)\n",
    "    \n",
    "    # Display the SPARQL query\n",
    "    formatted_query = highlight(query, SparqlLexer(), HtmlFormatter(style='solarized-dark', full=True, nobackground=True))\n",
    "    display(HTML(formatted_query))\n",
    "    \n",
    "    # Convert results to a Pandas DataFrame\n",
    "    res_list = []\n",
    "    for row in results:\n",
    "        res_list.append([str(item) for item in row])\n",
    "    df = pd.DataFrame(res_list, columns=[str(var) for var in results.vars]) if len(res_list) > 0 else pd.DataFrame()\n",
    "\n",
    "    # Display the DataFrame as a table in Jupyter Notebook\n",
    "    display(HTML(df.to_html()))"
   ]
  },
  {
   "cell_type": "markdown",
   "source": [
    "### 3. Load graph"
   ],
   "metadata": {
    "collapsed": false
   }
  },
  {
   "cell_type": "code",
   "outputs": [
    {
     "name": "stdout",
     "output_type": "stream",
     "text": [
      "Working with 617126 triples\n"
     ]
    }
   ],
   "source": [
    "ExoKG = Graph(store=\"Oxigraph\")\n",
    "ExoKG.parse(\"./planetary_systems_with_confirmed_exoplanets_KG.ttl\")\n",
    "\n",
    "print(f\"Working with {len(ExoKG)} triples\")"
   ],
   "metadata": {
    "collapsed": false,
    "ExecuteTime": {
     "end_time": "2024-03-31T12:46:02.087332Z",
     "start_time": "2024-03-31T12:45:27.695733Z"
    }
   },
   "execution_count": 4
  },
  {
   "cell_type": "code",
   "outputs": [],
   "source": [
    "prefixes = \"\"\"\n",
    "PREFIX cb: <https://example.org/ontology/celestial_body/>\n",
    "PREFIX dbo: <https://dbpedia.org/ontology/>\n",
    "PREFIX dbp: <https://dbpedia.org/property/>\n",
    "PREFIX dbr: <https://dbpedia.org/page/>\n",
    "PREFIX dcterms: <http://purl.org/dc/terms/>\n",
    "PREFIX disc: <https://example.org/ontology/discovery/>\n",
    "PREFIX ex: <https://example.org/ontology/>\n",
    "PREFIX exo: <https://example.org/ontology/celestial_body/exoplanet/>\n",
    "PREFIX oum: <http://www.ontology-of-units-of-measure.org/resource/om-2/>\n",
    "PREFIX owl: <http://www.w3.org/2002/07/owl#>\n",
    "PREFIX pl_sys: <https://example.org/ontology/planetary_system/>\n",
    "PREFIX rdf: <http://www.w3.org/1999/02/22-rdf-syntax-ns#>\n",
    "PREFIX rdfs: <http://www.w3.org/2000/01/rdf-schema#>\n",
    "PREFIX schema: <https://schema.org/>\n",
    "PREFIX skos: <http://www.w3.org/2004/02/skos/core#>\n",
    "PREFIX star: <https://example.org/ontology/celestial_body/star/>\n",
    "PREFIX time: <http://www.w3.org/2006/time#>\n",
    "PREFIX ucum: <https://w3id.org/uom/>\n",
    "PREFIX unit: <https://example.org/ontology/unit/>\n",
    "PREFIX xsd: <http://www.w3.org/2001/XMLSchema#>\n",
    "\"\"\""
   ],
   "metadata": {
    "collapsed": false,
    "ExecuteTime": {
     "end_time": "2024-03-31T12:46:02.091404Z",
     "start_time": "2024-03-31T12:46:02.084945Z"
    }
   },
   "execution_count": 5
  },
  {
   "cell_type": "markdown",
   "source": [
    "### 4. Data quality"
   ],
   "metadata": {
    "collapsed": false
   }
  },
  {
   "cell_type": "markdown",
   "source": [
    "1. Number of classes"
   ],
   "metadata": {
    "collapsed": false
   }
  },
  {
   "cell_type": "code",
   "outputs": [
    {
     "data": {
      "text/plain": "<IPython.core.display.HTML object>",
      "text/html": "<!DOCTYPE html PUBLIC \"-//W3C//DTD HTML 4.01//EN\"\n   \"http://www.w3.org/TR/html4/strict.dtd\">\n<!--\ngenerated by Pygments <https://pygments.org/>\nCopyright 2006-2023 by the Pygments team.\nLicensed under the BSD license, see LICENSE for details.\n-->\n<html>\n<head>\n  <title></title>\n  <meta http-equiv=\"content-type\" content=\"text/html; charset=None\">\n  <style type=\"text/css\">\n/*\ngenerated by Pygments <https://pygments.org/>\nCopyright 2006-2023 by the Pygments team.\nLicensed under the BSD license, see LICENSE for details.\n*/\npre { line-height: 125%; }\ntd.linenos .normal { color: #586e75; background-color: #073642; padding-left: 5px; padding-right: 5px; }\nspan.linenos { color: #586e75; background-color: #073642; padding-left: 5px; padding-right: 5px; }\ntd.linenos .special { color: #000000; background-color: #ffffc0; padding-left: 5px; padding-right: 5px; }\nspan.linenos.special { color: #000000; background-color: #ffffc0; padding-left: 5px; padding-right: 5px; }\nbody .hll { background-color: #073642 }\nbody .c { color: #586e75; font-style: italic } /* Comment */\nbody .err { color: #839496; background-color: #dc322f } /* Error */\nbody .esc { color: #839496 } /* Escape */\nbody .g { color: #839496 } /* Generic */\nbody .k { color: #859900 } /* Keyword */\nbody .l { color: #839496 } /* Literal */\nbody .n { color: #839496 } /* Name */\nbody .o { color: #586e75 } /* Operator */\nbody .x { color: #839496 } /* Other */\nbody .p { color: #839496 } /* Punctuation */\nbody .ch { color: #586e75; font-style: italic } /* Comment.Hashbang */\nbody .cm { color: #586e75; font-style: italic } /* Comment.Multiline */\nbody .cp { color: #d33682 } /* Comment.Preproc */\nbody .cpf { color: #586e75 } /* Comment.PreprocFile */\nbody .c1 { color: #586e75; font-style: italic } /* Comment.Single */\nbody .cs { color: #586e75; font-style: italic } /* Comment.Special */\nbody .gd { color: #dc322f } /* Generic.Deleted */\nbody .ge { color: #839496; font-style: italic } /* Generic.Emph */\nbody .gr { color: #dc322f } /* Generic.Error */\nbody .gh { color: #839496; font-weight: bold } /* Generic.Heading */\nbody .gi { color: #859900 } /* Generic.Inserted */\nbody .go { color: #839496 } /* Generic.Output */\nbody .gp { color: #268bd2; font-weight: bold } /* Generic.Prompt */\nbody .gs { color: #839496; font-weight: bold } /* Generic.Strong */\nbody .gu { color: #839496; text-decoration: underline } /* Generic.Subheading */\nbody .gt { color: #268bd2 } /* Generic.Traceback */\nbody .kc { color: #2aa198 } /* Keyword.Constant */\nbody .kd { color: #2aa198 } /* Keyword.Declaration */\nbody .kn { color: #cb4b16 } /* Keyword.Namespace */\nbody .kp { color: #859900 } /* Keyword.Pseudo */\nbody .kr { color: #859900 } /* Keyword.Reserved */\nbody .kt { color: #b58900 } /* Keyword.Type */\nbody .ld { color: #839496 } /* Literal.Date */\nbody .m { color: #2aa198 } /* Literal.Number */\nbody .s { color: #2aa198 } /* Literal.String */\nbody .na { color: #839496 } /* Name.Attribute */\nbody .nb { color: #268bd2 } /* Name.Builtin */\nbody .nc { color: #268bd2 } /* Name.Class */\nbody .no { color: #268bd2 } /* Name.Constant */\nbody .nd { color: #268bd2 } /* Name.Decorator */\nbody .ni { color: #268bd2 } /* Name.Entity */\nbody .ne { color: #268bd2 } /* Name.Exception */\nbody .nf { color: #268bd2 } /* Name.Function */\nbody .nl { color: #268bd2 } /* Name.Label */\nbody .nn { color: #268bd2 } /* Name.Namespace */\nbody .nx { color: #839496 } /* Name.Other */\nbody .py { color: #839496 } /* Name.Property */\nbody .nt { color: #268bd2 } /* Name.Tag */\nbody .nv { color: #268bd2 } /* Name.Variable */\nbody .ow { color: #859900 } /* Operator.Word */\nbody .pm { color: #839496 } /* Punctuation.Marker */\nbody .w { color: #839496 } /* Text.Whitespace */\nbody .mb { color: #2aa198 } /* Literal.Number.Bin */\nbody .mf { color: #2aa198 } /* Literal.Number.Float */\nbody .mh { color: #2aa198 } /* Literal.Number.Hex */\nbody .mi { color: #2aa198 } /* Literal.Number.Integer */\nbody .mo { color: #2aa198 } /* Literal.Number.Oct */\nbody .sa { color: #2aa198 } /* Literal.String.Affix */\nbody .sb { color: #2aa198 } /* Literal.String.Backtick */\nbody .sc { color: #2aa198 } /* Literal.String.Char */\nbody .dl { color: #2aa198 } /* Literal.String.Delimiter */\nbody .sd { color: #586e75 } /* Literal.String.Doc */\nbody .s2 { color: #2aa198 } /* Literal.String.Double */\nbody .se { color: #2aa198 } /* Literal.String.Escape */\nbody .sh { color: #2aa198 } /* Literal.String.Heredoc */\nbody .si { color: #2aa198 } /* Literal.String.Interpol */\nbody .sx { color: #2aa198 } /* Literal.String.Other */\nbody .sr { color: #cb4b16 } /* Literal.String.Regex */\nbody .s1 { color: #2aa198 } /* Literal.String.Single */\nbody .ss { color: #2aa198 } /* Literal.String.Symbol */\nbody .bp { color: #268bd2 } /* Name.Builtin.Pseudo */\nbody .fm { color: #268bd2 } /* Name.Function.Magic */\nbody .vc { color: #268bd2 } /* Name.Variable.Class */\nbody .vg { color: #268bd2 } /* Name.Variable.Global */\nbody .vi { color: #268bd2 } /* Name.Variable.Instance */\nbody .vm { color: #268bd2 } /* Name.Variable.Magic */\nbody .il { color: #2aa198 } /* Literal.Number.Integer.Long */\n\n  </style>\n</head>\n<body>\n<h2></h2>\n\n<div class=\"highlight\"><pre><span></span><span class=\"k\">PREFIX</span> <span class=\"nn\">cb</span><span class=\"p\">:</span> <span class=\"nl\">&lt;https://example.org/ontology/celestial_body/&gt;</span>\n<span class=\"k\">PREFIX</span> <span class=\"nn\">dbo</span><span class=\"p\">:</span> <span class=\"nl\">&lt;https://dbpedia.org/ontology/&gt;</span>\n<span class=\"k\">PREFIX</span> <span class=\"nn\">dbp</span><span class=\"p\">:</span> <span class=\"nl\">&lt;https://dbpedia.org/property/&gt;</span>\n<span class=\"k\">PREFIX</span> <span class=\"nn\">dbr</span><span class=\"p\">:</span> <span class=\"nl\">&lt;https://dbpedia.org/page/&gt;</span>\n<span class=\"k\">PREFIX</span> <span class=\"nn\">dcterms</span><span class=\"p\">:</span> <span class=\"nl\">&lt;http://purl.org/dc/terms/&gt;</span>\n<span class=\"k\">PREFIX</span> <span class=\"nn\">disc</span><span class=\"p\">:</span> <span class=\"nl\">&lt;https://example.org/ontology/discovery/&gt;</span>\n<span class=\"k\">PREFIX</span> <span class=\"nn\">ex</span><span class=\"p\">:</span> <span class=\"nl\">&lt;https://example.org/ontology/&gt;</span>\n<span class=\"k\">PREFIX</span> <span class=\"nn\">exo</span><span class=\"p\">:</span> <span class=\"nl\">&lt;https://example.org/ontology/celestial_body/exoplanet/&gt;</span>\n<span class=\"k\">PREFIX</span> <span class=\"nn\">oum</span><span class=\"p\">:</span> <span class=\"nl\">&lt;http://www.ontology-of-units-of-measure.org/resource/om-2/&gt;</span>\n<span class=\"k\">PREFIX</span> <span class=\"nn\">owl</span><span class=\"p\">:</span> <span class=\"nl\">&lt;http://www.w3.org/2002/07/owl#&gt;</span>\n<span class=\"k\">PREFIX</span> <span class=\"nn\">pl_sys</span><span class=\"p\">:</span> <span class=\"nl\">&lt;https://example.org/ontology/planetary_system/&gt;</span>\n<span class=\"k\">PREFIX</span> <span class=\"nn\">rdf</span><span class=\"p\">:</span> <span class=\"nl\">&lt;http://www.w3.org/1999/02/22-rdf-syntax-ns#&gt;</span>\n<span class=\"k\">PREFIX</span> <span class=\"nn\">rdfs</span><span class=\"p\">:</span> <span class=\"nl\">&lt;http://www.w3.org/2000/01/rdf-schema#&gt;</span>\n<span class=\"k\">PREFIX</span> <span class=\"nn\">schema</span><span class=\"p\">:</span> <span class=\"nl\">&lt;https://schema.org/&gt;</span>\n<span class=\"k\">PREFIX</span> <span class=\"nn\">skos</span><span class=\"p\">:</span> <span class=\"nl\">&lt;http://www.w3.org/2004/02/skos/core#&gt;</span>\n<span class=\"k\">PREFIX</span> <span class=\"nn\">star</span><span class=\"p\">:</span> <span class=\"nl\">&lt;https://example.org/ontology/celestial_body/star/&gt;</span>\n<span class=\"k\">PREFIX</span> <span class=\"nn\">time</span><span class=\"p\">:</span> <span class=\"nl\">&lt;http://www.w3.org/2006/time#&gt;</span>\n<span class=\"k\">PREFIX</span> <span class=\"nn\">ucum</span><span class=\"p\">:</span> <span class=\"nl\">&lt;https://w3id.org/uom/&gt;</span>\n<span class=\"k\">PREFIX</span> <span class=\"nn\">unit</span><span class=\"p\">:</span> <span class=\"nl\">&lt;https://example.org/ontology/unit/&gt;</span>\n<span class=\"k\">PREFIX</span> <span class=\"nn\">xsd</span><span class=\"p\">:</span> <span class=\"nl\">&lt;http://www.w3.org/2001/XMLSchema#&gt;</span>\n\n<span class=\"k\">SELECT</span> <span class=\"p\">(</span><span class=\"nf\">COUNT</span><span class=\"p\">(</span><span class=\"k\">DISTINCT</span><span class=\"p\">(</span><span class=\"nv\">?class</span><span class=\"p\">))</span> <span class=\"k\">AS</span> <span class=\"nv\">?n_class</span><span class=\"p\">)</span>\n<span class=\"k\">WHERE</span> <span class=\"p\">{</span>\n    <span class=\"nv\">?class</span> <span class=\"k\">a</span> <span class=\"nn\">rdfs</span><span class=\"p\">:</span><span class=\"nt\">Class</span> <span class=\"p\">.</span>\n<span class=\"p\">}</span>\n</pre></div>\n</body>\n</html>\n"
     },
     "metadata": {},
     "output_type": "display_data"
    },
    {
     "data": {
      "text/plain": "<IPython.core.display.HTML object>",
      "text/html": "<table border=\"1\" class=\"dataframe\">\n  <thead>\n    <tr style=\"text-align: right;\">\n      <th></th>\n      <th>n_class</th>\n    </tr>\n  </thead>\n  <tbody>\n    <tr>\n      <th>0</th>\n      <td>7</td>\n    </tr>\n  </tbody>\n</table>"
     },
     "metadata": {},
     "output_type": "display_data"
    }
   ],
   "source": [
    "class_query = prefixes + \"\"\"\n",
    "SELECT (COUNT(DISTINCT(?class)) AS ?n_class)\n",
    "WHERE {\n",
    "    ?class a rdfs:Class .\n",
    "}\n",
    "\"\"\"\n",
    "\n",
    "run_query(ExoKG, class_query)"
   ],
   "metadata": {
    "collapsed": false,
    "ExecuteTime": {
     "end_time": "2024-03-31T12:46:02.130533Z",
     "start_time": "2024-03-31T12:46:02.088960Z"
    }
   },
   "execution_count": 6
  },
  {
   "cell_type": "markdown",
   "source": [
    "2. Number of properties"
   ],
   "metadata": {
    "collapsed": false
   }
  },
  {
   "cell_type": "code",
   "outputs": [
    {
     "data": {
      "text/plain": "<IPython.core.display.HTML object>",
      "text/html": "<!DOCTYPE html PUBLIC \"-//W3C//DTD HTML 4.01//EN\"\n   \"http://www.w3.org/TR/html4/strict.dtd\">\n<!--\ngenerated by Pygments <https://pygments.org/>\nCopyright 2006-2023 by the Pygments team.\nLicensed under the BSD license, see LICENSE for details.\n-->\n<html>\n<head>\n  <title></title>\n  <meta http-equiv=\"content-type\" content=\"text/html; charset=None\">\n  <style type=\"text/css\">\n/*\ngenerated by Pygments <https://pygments.org/>\nCopyright 2006-2023 by the Pygments team.\nLicensed under the BSD license, see LICENSE for details.\n*/\npre { line-height: 125%; }\ntd.linenos .normal { color: #586e75; background-color: #073642; padding-left: 5px; padding-right: 5px; }\nspan.linenos { color: #586e75; background-color: #073642; padding-left: 5px; padding-right: 5px; }\ntd.linenos .special { color: #000000; background-color: #ffffc0; padding-left: 5px; padding-right: 5px; }\nspan.linenos.special { color: #000000; background-color: #ffffc0; padding-left: 5px; padding-right: 5px; }\nbody .hll { background-color: #073642 }\nbody .c { color: #586e75; font-style: italic } /* Comment */\nbody .err { color: #839496; background-color: #dc322f } /* Error */\nbody .esc { color: #839496 } /* Escape */\nbody .g { color: #839496 } /* Generic */\nbody .k { color: #859900 } /* Keyword */\nbody .l { color: #839496 } /* Literal */\nbody .n { color: #839496 } /* Name */\nbody .o { color: #586e75 } /* Operator */\nbody .x { color: #839496 } /* Other */\nbody .p { color: #839496 } /* Punctuation */\nbody .ch { color: #586e75; font-style: italic } /* Comment.Hashbang */\nbody .cm { color: #586e75; font-style: italic } /* Comment.Multiline */\nbody .cp { color: #d33682 } /* Comment.Preproc */\nbody .cpf { color: #586e75 } /* Comment.PreprocFile */\nbody .c1 { color: #586e75; font-style: italic } /* Comment.Single */\nbody .cs { color: #586e75; font-style: italic } /* Comment.Special */\nbody .gd { color: #dc322f } /* Generic.Deleted */\nbody .ge { color: #839496; font-style: italic } /* Generic.Emph */\nbody .gr { color: #dc322f } /* Generic.Error */\nbody .gh { color: #839496; font-weight: bold } /* Generic.Heading */\nbody .gi { color: #859900 } /* Generic.Inserted */\nbody .go { color: #839496 } /* Generic.Output */\nbody .gp { color: #268bd2; font-weight: bold } /* Generic.Prompt */\nbody .gs { color: #839496; font-weight: bold } /* Generic.Strong */\nbody .gu { color: #839496; text-decoration: underline } /* Generic.Subheading */\nbody .gt { color: #268bd2 } /* Generic.Traceback */\nbody .kc { color: #2aa198 } /* Keyword.Constant */\nbody .kd { color: #2aa198 } /* Keyword.Declaration */\nbody .kn { color: #cb4b16 } /* Keyword.Namespace */\nbody .kp { color: #859900 } /* Keyword.Pseudo */\nbody .kr { color: #859900 } /* Keyword.Reserved */\nbody .kt { color: #b58900 } /* Keyword.Type */\nbody .ld { color: #839496 } /* Literal.Date */\nbody .m { color: #2aa198 } /* Literal.Number */\nbody .s { color: #2aa198 } /* Literal.String */\nbody .na { color: #839496 } /* Name.Attribute */\nbody .nb { color: #268bd2 } /* Name.Builtin */\nbody .nc { color: #268bd2 } /* Name.Class */\nbody .no { color: #268bd2 } /* Name.Constant */\nbody .nd { color: #268bd2 } /* Name.Decorator */\nbody .ni { color: #268bd2 } /* Name.Entity */\nbody .ne { color: #268bd2 } /* Name.Exception */\nbody .nf { color: #268bd2 } /* Name.Function */\nbody .nl { color: #268bd2 } /* Name.Label */\nbody .nn { color: #268bd2 } /* Name.Namespace */\nbody .nx { color: #839496 } /* Name.Other */\nbody .py { color: #839496 } /* Name.Property */\nbody .nt { color: #268bd2 } /* Name.Tag */\nbody .nv { color: #268bd2 } /* Name.Variable */\nbody .ow { color: #859900 } /* Operator.Word */\nbody .pm { color: #839496 } /* Punctuation.Marker */\nbody .w { color: #839496 } /* Text.Whitespace */\nbody .mb { color: #2aa198 } /* Literal.Number.Bin */\nbody .mf { color: #2aa198 } /* Literal.Number.Float */\nbody .mh { color: #2aa198 } /* Literal.Number.Hex */\nbody .mi { color: #2aa198 } /* Literal.Number.Integer */\nbody .mo { color: #2aa198 } /* Literal.Number.Oct */\nbody .sa { color: #2aa198 } /* Literal.String.Affix */\nbody .sb { color: #2aa198 } /* Literal.String.Backtick */\nbody .sc { color: #2aa198 } /* Literal.String.Char */\nbody .dl { color: #2aa198 } /* Literal.String.Delimiter */\nbody .sd { color: #586e75 } /* Literal.String.Doc */\nbody .s2 { color: #2aa198 } /* Literal.String.Double */\nbody .se { color: #2aa198 } /* Literal.String.Escape */\nbody .sh { color: #2aa198 } /* Literal.String.Heredoc */\nbody .si { color: #2aa198 } /* Literal.String.Interpol */\nbody .sx { color: #2aa198 } /* Literal.String.Other */\nbody .sr { color: #cb4b16 } /* Literal.String.Regex */\nbody .s1 { color: #2aa198 } /* Literal.String.Single */\nbody .ss { color: #2aa198 } /* Literal.String.Symbol */\nbody .bp { color: #268bd2 } /* Name.Builtin.Pseudo */\nbody .fm { color: #268bd2 } /* Name.Function.Magic */\nbody .vc { color: #268bd2 } /* Name.Variable.Class */\nbody .vg { color: #268bd2 } /* Name.Variable.Global */\nbody .vi { color: #268bd2 } /* Name.Variable.Instance */\nbody .vm { color: #268bd2 } /* Name.Variable.Magic */\nbody .il { color: #2aa198 } /* Literal.Number.Integer.Long */\n\n  </style>\n</head>\n<body>\n<h2></h2>\n\n<div class=\"highlight\"><pre><span></span><span class=\"k\">PREFIX</span> <span class=\"nn\">cb</span><span class=\"p\">:</span> <span class=\"nl\">&lt;https://example.org/ontology/celestial_body/&gt;</span>\n<span class=\"k\">PREFIX</span> <span class=\"nn\">dbo</span><span class=\"p\">:</span> <span class=\"nl\">&lt;https://dbpedia.org/ontology/&gt;</span>\n<span class=\"k\">PREFIX</span> <span class=\"nn\">dbp</span><span class=\"p\">:</span> <span class=\"nl\">&lt;https://dbpedia.org/property/&gt;</span>\n<span class=\"k\">PREFIX</span> <span class=\"nn\">dbr</span><span class=\"p\">:</span> <span class=\"nl\">&lt;https://dbpedia.org/page/&gt;</span>\n<span class=\"k\">PREFIX</span> <span class=\"nn\">dcterms</span><span class=\"p\">:</span> <span class=\"nl\">&lt;http://purl.org/dc/terms/&gt;</span>\n<span class=\"k\">PREFIX</span> <span class=\"nn\">disc</span><span class=\"p\">:</span> <span class=\"nl\">&lt;https://example.org/ontology/discovery/&gt;</span>\n<span class=\"k\">PREFIX</span> <span class=\"nn\">ex</span><span class=\"p\">:</span> <span class=\"nl\">&lt;https://example.org/ontology/&gt;</span>\n<span class=\"k\">PREFIX</span> <span class=\"nn\">exo</span><span class=\"p\">:</span> <span class=\"nl\">&lt;https://example.org/ontology/celestial_body/exoplanet/&gt;</span>\n<span class=\"k\">PREFIX</span> <span class=\"nn\">oum</span><span class=\"p\">:</span> <span class=\"nl\">&lt;http://www.ontology-of-units-of-measure.org/resource/om-2/&gt;</span>\n<span class=\"k\">PREFIX</span> <span class=\"nn\">owl</span><span class=\"p\">:</span> <span class=\"nl\">&lt;http://www.w3.org/2002/07/owl#&gt;</span>\n<span class=\"k\">PREFIX</span> <span class=\"nn\">pl_sys</span><span class=\"p\">:</span> <span class=\"nl\">&lt;https://example.org/ontology/planetary_system/&gt;</span>\n<span class=\"k\">PREFIX</span> <span class=\"nn\">rdf</span><span class=\"p\">:</span> <span class=\"nl\">&lt;http://www.w3.org/1999/02/22-rdf-syntax-ns#&gt;</span>\n<span class=\"k\">PREFIX</span> <span class=\"nn\">rdfs</span><span class=\"p\">:</span> <span class=\"nl\">&lt;http://www.w3.org/2000/01/rdf-schema#&gt;</span>\n<span class=\"k\">PREFIX</span> <span class=\"nn\">schema</span><span class=\"p\">:</span> <span class=\"nl\">&lt;https://schema.org/&gt;</span>\n<span class=\"k\">PREFIX</span> <span class=\"nn\">skos</span><span class=\"p\">:</span> <span class=\"nl\">&lt;http://www.w3.org/2004/02/skos/core#&gt;</span>\n<span class=\"k\">PREFIX</span> <span class=\"nn\">star</span><span class=\"p\">:</span> <span class=\"nl\">&lt;https://example.org/ontology/celestial_body/star/&gt;</span>\n<span class=\"k\">PREFIX</span> <span class=\"nn\">time</span><span class=\"p\">:</span> <span class=\"nl\">&lt;http://www.w3.org/2006/time#&gt;</span>\n<span class=\"k\">PREFIX</span> <span class=\"nn\">ucum</span><span class=\"p\">:</span> <span class=\"nl\">&lt;https://w3id.org/uom/&gt;</span>\n<span class=\"k\">PREFIX</span> <span class=\"nn\">unit</span><span class=\"p\">:</span> <span class=\"nl\">&lt;https://example.org/ontology/unit/&gt;</span>\n<span class=\"k\">PREFIX</span> <span class=\"nn\">xsd</span><span class=\"p\">:</span> <span class=\"nl\">&lt;http://www.w3.org/2001/XMLSchema#&gt;</span>\n\n<span class=\"k\">SELECT</span> <span class=\"p\">(</span><span class=\"nf\">COUNT</span><span class=\"p\">(</span><span class=\"k\">DISTINCT</span><span class=\"p\">(</span><span class=\"nv\">?property</span><span class=\"p\">))</span> <span class=\"k\">AS</span> <span class=\"nv\">?n_property</span><span class=\"p\">)</span>\n<span class=\"k\">WHERE</span> <span class=\"p\">{</span>\n    <span class=\"nv\">?property</span> <span class=\"k\">a</span> <span class=\"nn\">rdf</span><span class=\"p\">:</span><span class=\"nt\">Property</span> <span class=\"p\">.</span>\n<span class=\"p\">}</span>\n</pre></div>\n</body>\n</html>\n"
     },
     "metadata": {},
     "output_type": "display_data"
    },
    {
     "data": {
      "text/plain": "<IPython.core.display.HTML object>",
      "text/html": "<table border=\"1\" class=\"dataframe\">\n  <thead>\n    <tr style=\"text-align: right;\">\n      <th></th>\n      <th>n_property</th>\n    </tr>\n  </thead>\n  <tbody>\n    <tr>\n      <th>0</th>\n      <td>28</td>\n    </tr>\n  </tbody>\n</table>"
     },
     "metadata": {},
     "output_type": "display_data"
    }
   ],
   "source": [
    "property_query = prefixes + \"\"\"\n",
    "SELECT (COUNT(DISTINCT(?property)) AS ?n_property)\n",
    "WHERE {\n",
    "    ?property a rdf:Property .\n",
    "}\n",
    "\"\"\"\n",
    "\n",
    "run_query(ExoKG, property_query)"
   ],
   "metadata": {
    "collapsed": false,
    "ExecuteTime": {
     "end_time": "2024-03-31T12:46:02.135588Z",
     "start_time": "2024-03-31T12:46:02.128836Z"
    }
   },
   "execution_count": 7
  },
  {
   "cell_type": "markdown",
   "source": [
    "3. Check for NaNs"
   ],
   "metadata": {
    "collapsed": false
   }
  },
  {
   "cell_type": "code",
   "outputs": [
    {
     "data": {
      "text/plain": "<IPython.core.display.HTML object>",
      "text/html": "<!DOCTYPE html PUBLIC \"-//W3C//DTD HTML 4.01//EN\"\n   \"http://www.w3.org/TR/html4/strict.dtd\">\n<!--\ngenerated by Pygments <https://pygments.org/>\nCopyright 2006-2023 by the Pygments team.\nLicensed under the BSD license, see LICENSE for details.\n-->\n<html>\n<head>\n  <title></title>\n  <meta http-equiv=\"content-type\" content=\"text/html; charset=None\">\n  <style type=\"text/css\">\n/*\ngenerated by Pygments <https://pygments.org/>\nCopyright 2006-2023 by the Pygments team.\nLicensed under the BSD license, see LICENSE for details.\n*/\npre { line-height: 125%; }\ntd.linenos .normal { color: #586e75; background-color: #073642; padding-left: 5px; padding-right: 5px; }\nspan.linenos { color: #586e75; background-color: #073642; padding-left: 5px; padding-right: 5px; }\ntd.linenos .special { color: #000000; background-color: #ffffc0; padding-left: 5px; padding-right: 5px; }\nspan.linenos.special { color: #000000; background-color: #ffffc0; padding-left: 5px; padding-right: 5px; }\nbody .hll { background-color: #073642 }\nbody .c { color: #586e75; font-style: italic } /* Comment */\nbody .err { color: #839496; background-color: #dc322f } /* Error */\nbody .esc { color: #839496 } /* Escape */\nbody .g { color: #839496 } /* Generic */\nbody .k { color: #859900 } /* Keyword */\nbody .l { color: #839496 } /* Literal */\nbody .n { color: #839496 } /* Name */\nbody .o { color: #586e75 } /* Operator */\nbody .x { color: #839496 } /* Other */\nbody .p { color: #839496 } /* Punctuation */\nbody .ch { color: #586e75; font-style: italic } /* Comment.Hashbang */\nbody .cm { color: #586e75; font-style: italic } /* Comment.Multiline */\nbody .cp { color: #d33682 } /* Comment.Preproc */\nbody .cpf { color: #586e75 } /* Comment.PreprocFile */\nbody .c1 { color: #586e75; font-style: italic } /* Comment.Single */\nbody .cs { color: #586e75; font-style: italic } /* Comment.Special */\nbody .gd { color: #dc322f } /* Generic.Deleted */\nbody .ge { color: #839496; font-style: italic } /* Generic.Emph */\nbody .gr { color: #dc322f } /* Generic.Error */\nbody .gh { color: #839496; font-weight: bold } /* Generic.Heading */\nbody .gi { color: #859900 } /* Generic.Inserted */\nbody .go { color: #839496 } /* Generic.Output */\nbody .gp { color: #268bd2; font-weight: bold } /* Generic.Prompt */\nbody .gs { color: #839496; font-weight: bold } /* Generic.Strong */\nbody .gu { color: #839496; text-decoration: underline } /* Generic.Subheading */\nbody .gt { color: #268bd2 } /* Generic.Traceback */\nbody .kc { color: #2aa198 } /* Keyword.Constant */\nbody .kd { color: #2aa198 } /* Keyword.Declaration */\nbody .kn { color: #cb4b16 } /* Keyword.Namespace */\nbody .kp { color: #859900 } /* Keyword.Pseudo */\nbody .kr { color: #859900 } /* Keyword.Reserved */\nbody .kt { color: #b58900 } /* Keyword.Type */\nbody .ld { color: #839496 } /* Literal.Date */\nbody .m { color: #2aa198 } /* Literal.Number */\nbody .s { color: #2aa198 } /* Literal.String */\nbody .na { color: #839496 } /* Name.Attribute */\nbody .nb { color: #268bd2 } /* Name.Builtin */\nbody .nc { color: #268bd2 } /* Name.Class */\nbody .no { color: #268bd2 } /* Name.Constant */\nbody .nd { color: #268bd2 } /* Name.Decorator */\nbody .ni { color: #268bd2 } /* Name.Entity */\nbody .ne { color: #268bd2 } /* Name.Exception */\nbody .nf { color: #268bd2 } /* Name.Function */\nbody .nl { color: #268bd2 } /* Name.Label */\nbody .nn { color: #268bd2 } /* Name.Namespace */\nbody .nx { color: #839496 } /* Name.Other */\nbody .py { color: #839496 } /* Name.Property */\nbody .nt { color: #268bd2 } /* Name.Tag */\nbody .nv { color: #268bd2 } /* Name.Variable */\nbody .ow { color: #859900 } /* Operator.Word */\nbody .pm { color: #839496 } /* Punctuation.Marker */\nbody .w { color: #839496 } /* Text.Whitespace */\nbody .mb { color: #2aa198 } /* Literal.Number.Bin */\nbody .mf { color: #2aa198 } /* Literal.Number.Float */\nbody .mh { color: #2aa198 } /* Literal.Number.Hex */\nbody .mi { color: #2aa198 } /* Literal.Number.Integer */\nbody .mo { color: #2aa198 } /* Literal.Number.Oct */\nbody .sa { color: #2aa198 } /* Literal.String.Affix */\nbody .sb { color: #2aa198 } /* Literal.String.Backtick */\nbody .sc { color: #2aa198 } /* Literal.String.Char */\nbody .dl { color: #2aa198 } /* Literal.String.Delimiter */\nbody .sd { color: #586e75 } /* Literal.String.Doc */\nbody .s2 { color: #2aa198 } /* Literal.String.Double */\nbody .se { color: #2aa198 } /* Literal.String.Escape */\nbody .sh { color: #2aa198 } /* Literal.String.Heredoc */\nbody .si { color: #2aa198 } /* Literal.String.Interpol */\nbody .sx { color: #2aa198 } /* Literal.String.Other */\nbody .sr { color: #cb4b16 } /* Literal.String.Regex */\nbody .s1 { color: #2aa198 } /* Literal.String.Single */\nbody .ss { color: #2aa198 } /* Literal.String.Symbol */\nbody .bp { color: #268bd2 } /* Name.Builtin.Pseudo */\nbody .fm { color: #268bd2 } /* Name.Function.Magic */\nbody .vc { color: #268bd2 } /* Name.Variable.Class */\nbody .vg { color: #268bd2 } /* Name.Variable.Global */\nbody .vi { color: #268bd2 } /* Name.Variable.Instance */\nbody .vm { color: #268bd2 } /* Name.Variable.Magic */\nbody .il { color: #2aa198 } /* Literal.Number.Integer.Long */\n\n  </style>\n</head>\n<body>\n<h2></h2>\n\n<div class=\"highlight\"><pre><span></span><span class=\"k\">PREFIX</span> <span class=\"nn\">cb</span><span class=\"p\">:</span> <span class=\"nl\">&lt;https://example.org/ontology/celestial_body/&gt;</span>\n<span class=\"k\">PREFIX</span> <span class=\"nn\">dbo</span><span class=\"p\">:</span> <span class=\"nl\">&lt;https://dbpedia.org/ontology/&gt;</span>\n<span class=\"k\">PREFIX</span> <span class=\"nn\">dbp</span><span class=\"p\">:</span> <span class=\"nl\">&lt;https://dbpedia.org/property/&gt;</span>\n<span class=\"k\">PREFIX</span> <span class=\"nn\">dbr</span><span class=\"p\">:</span> <span class=\"nl\">&lt;https://dbpedia.org/page/&gt;</span>\n<span class=\"k\">PREFIX</span> <span class=\"nn\">dcterms</span><span class=\"p\">:</span> <span class=\"nl\">&lt;http://purl.org/dc/terms/&gt;</span>\n<span class=\"k\">PREFIX</span> <span class=\"nn\">disc</span><span class=\"p\">:</span> <span class=\"nl\">&lt;https://example.org/ontology/discovery/&gt;</span>\n<span class=\"k\">PREFIX</span> <span class=\"nn\">ex</span><span class=\"p\">:</span> <span class=\"nl\">&lt;https://example.org/ontology/&gt;</span>\n<span class=\"k\">PREFIX</span> <span class=\"nn\">exo</span><span class=\"p\">:</span> <span class=\"nl\">&lt;https://example.org/ontology/celestial_body/exoplanet/&gt;</span>\n<span class=\"k\">PREFIX</span> <span class=\"nn\">oum</span><span class=\"p\">:</span> <span class=\"nl\">&lt;http://www.ontology-of-units-of-measure.org/resource/om-2/&gt;</span>\n<span class=\"k\">PREFIX</span> <span class=\"nn\">owl</span><span class=\"p\">:</span> <span class=\"nl\">&lt;http://www.w3.org/2002/07/owl#&gt;</span>\n<span class=\"k\">PREFIX</span> <span class=\"nn\">pl_sys</span><span class=\"p\">:</span> <span class=\"nl\">&lt;https://example.org/ontology/planetary_system/&gt;</span>\n<span class=\"k\">PREFIX</span> <span class=\"nn\">rdf</span><span class=\"p\">:</span> <span class=\"nl\">&lt;http://www.w3.org/1999/02/22-rdf-syntax-ns#&gt;</span>\n<span class=\"k\">PREFIX</span> <span class=\"nn\">rdfs</span><span class=\"p\">:</span> <span class=\"nl\">&lt;http://www.w3.org/2000/01/rdf-schema#&gt;</span>\n<span class=\"k\">PREFIX</span> <span class=\"nn\">schema</span><span class=\"p\">:</span> <span class=\"nl\">&lt;https://schema.org/&gt;</span>\n<span class=\"k\">PREFIX</span> <span class=\"nn\">skos</span><span class=\"p\">:</span> <span class=\"nl\">&lt;http://www.w3.org/2004/02/skos/core#&gt;</span>\n<span class=\"k\">PREFIX</span> <span class=\"nn\">star</span><span class=\"p\">:</span> <span class=\"nl\">&lt;https://example.org/ontology/celestial_body/star/&gt;</span>\n<span class=\"k\">PREFIX</span> <span class=\"nn\">time</span><span class=\"p\">:</span> <span class=\"nl\">&lt;http://www.w3.org/2006/time#&gt;</span>\n<span class=\"k\">PREFIX</span> <span class=\"nn\">ucum</span><span class=\"p\">:</span> <span class=\"nl\">&lt;https://w3id.org/uom/&gt;</span>\n<span class=\"k\">PREFIX</span> <span class=\"nn\">unit</span><span class=\"p\">:</span> <span class=\"nl\">&lt;https://example.org/ontology/unit/&gt;</span>\n<span class=\"k\">PREFIX</span> <span class=\"nn\">xsd</span><span class=\"p\">:</span> <span class=\"nl\">&lt;http://www.w3.org/2001/XMLSchema#&gt;</span>\n\n<span class=\"k\">SELECT</span> <span class=\"p\">(</span><span class=\"nf\">COUNT</span><span class=\"p\">(</span><span class=\"nv\">?observation</span><span class=\"p\">)</span> <span class=\"k\">AS</span> <span class=\"nv\">?n_nan</span><span class=\"p\">)</span>\n<span class=\"k\">WHERE</span> <span class=\"p\">{</span>\n    <span class=\"nv\">?observation</span> <span class=\"nn\">schema</span><span class=\"p\">:</span><span class=\"nt\">value</span> <span class=\"nv\">?value</span> <span class=\"p\">.</span>\n    <span class=\"k\">FILTER</span><span class=\"p\">(</span><span class=\"nf\">DATATYPE</span><span class=\"p\">(</span><span class=\"nv\">?value</span><span class=\"p\">)</span> <span class=\"o\">!=</span> <span class=\"nn\">xsd</span><span class=\"p\">:</span><span class=\"nt\">double</span> <span class=\"o\">||</span> <span class=\"nf\">LCASE</span><span class=\"p\">(</span><span class=\"nf\">STR</span><span class=\"p\">(</span><span class=\"nv\">?value</span><span class=\"p\">))</span> <span class=\"k\">IN</span> <span class=\"p\">(</span><span class=\"s\">&quot;na&quot;</span><span class=\"p\">,</span> <span class=\"s\">&quot;nan&quot;</span><span class=\"p\">))</span>\n<span class=\"p\">}</span>\n</pre></div>\n</body>\n</html>\n"
     },
     "metadata": {},
     "output_type": "display_data"
    },
    {
     "data": {
      "text/plain": "<IPython.core.display.HTML object>",
      "text/html": "<table border=\"1\" class=\"dataframe\">\n  <thead>\n    <tr style=\"text-align: right;\">\n      <th></th>\n      <th>n_nan</th>\n    </tr>\n  </thead>\n  <tbody>\n    <tr>\n      <th>0</th>\n      <td>0</td>\n    </tr>\n  </tbody>\n</table>"
     },
     "metadata": {},
     "output_type": "display_data"
    }
   ],
   "source": [
    "nan_query = prefixes + \"\"\"\n",
    "SELECT (COUNT(?observation) AS ?n_nan)\n",
    "WHERE {\n",
    "    ?observation schema:value ?value .\n",
    "    FILTER(DATATYPE(?value) != xsd:double || LCASE(STR(?value)) IN (\"na\", \"nan\"))\n",
    "}\n",
    "\"\"\"\n",
    "\n",
    "run_query(ExoKG, nan_query)"
   ],
   "metadata": {
    "collapsed": false,
    "ExecuteTime": {
     "end_time": "2024-03-31T12:46:02.280189Z",
     "start_time": "2024-03-31T12:46:02.133541Z"
    }
   },
   "execution_count": 8
  },
  {
   "cell_type": "markdown",
   "source": [
    "4. Check for empty string"
   ],
   "metadata": {
    "collapsed": false
   }
  },
  {
   "cell_type": "code",
   "outputs": [
    {
     "data": {
      "text/plain": "<IPython.core.display.HTML object>",
      "text/html": "<!DOCTYPE html PUBLIC \"-//W3C//DTD HTML 4.01//EN\"\n   \"http://www.w3.org/TR/html4/strict.dtd\">\n<!--\ngenerated by Pygments <https://pygments.org/>\nCopyright 2006-2023 by the Pygments team.\nLicensed under the BSD license, see LICENSE for details.\n-->\n<html>\n<head>\n  <title></title>\n  <meta http-equiv=\"content-type\" content=\"text/html; charset=None\">\n  <style type=\"text/css\">\n/*\ngenerated by Pygments <https://pygments.org/>\nCopyright 2006-2023 by the Pygments team.\nLicensed under the BSD license, see LICENSE for details.\n*/\npre { line-height: 125%; }\ntd.linenos .normal { color: #586e75; background-color: #073642; padding-left: 5px; padding-right: 5px; }\nspan.linenos { color: #586e75; background-color: #073642; padding-left: 5px; padding-right: 5px; }\ntd.linenos .special { color: #000000; background-color: #ffffc0; padding-left: 5px; padding-right: 5px; }\nspan.linenos.special { color: #000000; background-color: #ffffc0; padding-left: 5px; padding-right: 5px; }\nbody .hll { background-color: #073642 }\nbody .c { color: #586e75; font-style: italic } /* Comment */\nbody .err { color: #839496; background-color: #dc322f } /* Error */\nbody .esc { color: #839496 } /* Escape */\nbody .g { color: #839496 } /* Generic */\nbody .k { color: #859900 } /* Keyword */\nbody .l { color: #839496 } /* Literal */\nbody .n { color: #839496 } /* Name */\nbody .o { color: #586e75 } /* Operator */\nbody .x { color: #839496 } /* Other */\nbody .p { color: #839496 } /* Punctuation */\nbody .ch { color: #586e75; font-style: italic } /* Comment.Hashbang */\nbody .cm { color: #586e75; font-style: italic } /* Comment.Multiline */\nbody .cp { color: #d33682 } /* Comment.Preproc */\nbody .cpf { color: #586e75 } /* Comment.PreprocFile */\nbody .c1 { color: #586e75; font-style: italic } /* Comment.Single */\nbody .cs { color: #586e75; font-style: italic } /* Comment.Special */\nbody .gd { color: #dc322f } /* Generic.Deleted */\nbody .ge { color: #839496; font-style: italic } /* Generic.Emph */\nbody .gr { color: #dc322f } /* Generic.Error */\nbody .gh { color: #839496; font-weight: bold } /* Generic.Heading */\nbody .gi { color: #859900 } /* Generic.Inserted */\nbody .go { color: #839496 } /* Generic.Output */\nbody .gp { color: #268bd2; font-weight: bold } /* Generic.Prompt */\nbody .gs { color: #839496; font-weight: bold } /* Generic.Strong */\nbody .gu { color: #839496; text-decoration: underline } /* Generic.Subheading */\nbody .gt { color: #268bd2 } /* Generic.Traceback */\nbody .kc { color: #2aa198 } /* Keyword.Constant */\nbody .kd { color: #2aa198 } /* Keyword.Declaration */\nbody .kn { color: #cb4b16 } /* Keyword.Namespace */\nbody .kp { color: #859900 } /* Keyword.Pseudo */\nbody .kr { color: #859900 } /* Keyword.Reserved */\nbody .kt { color: #b58900 } /* Keyword.Type */\nbody .ld { color: #839496 } /* Literal.Date */\nbody .m { color: #2aa198 } /* Literal.Number */\nbody .s { color: #2aa198 } /* Literal.String */\nbody .na { color: #839496 } /* Name.Attribute */\nbody .nb { color: #268bd2 } /* Name.Builtin */\nbody .nc { color: #268bd2 } /* Name.Class */\nbody .no { color: #268bd2 } /* Name.Constant */\nbody .nd { color: #268bd2 } /* Name.Decorator */\nbody .ni { color: #268bd2 } /* Name.Entity */\nbody .ne { color: #268bd2 } /* Name.Exception */\nbody .nf { color: #268bd2 } /* Name.Function */\nbody .nl { color: #268bd2 } /* Name.Label */\nbody .nn { color: #268bd2 } /* Name.Namespace */\nbody .nx { color: #839496 } /* Name.Other */\nbody .py { color: #839496 } /* Name.Property */\nbody .nt { color: #268bd2 } /* Name.Tag */\nbody .nv { color: #268bd2 } /* Name.Variable */\nbody .ow { color: #859900 } /* Operator.Word */\nbody .pm { color: #839496 } /* Punctuation.Marker */\nbody .w { color: #839496 } /* Text.Whitespace */\nbody .mb { color: #2aa198 } /* Literal.Number.Bin */\nbody .mf { color: #2aa198 } /* Literal.Number.Float */\nbody .mh { color: #2aa198 } /* Literal.Number.Hex */\nbody .mi { color: #2aa198 } /* Literal.Number.Integer */\nbody .mo { color: #2aa198 } /* Literal.Number.Oct */\nbody .sa { color: #2aa198 } /* Literal.String.Affix */\nbody .sb { color: #2aa198 } /* Literal.String.Backtick */\nbody .sc { color: #2aa198 } /* Literal.String.Char */\nbody .dl { color: #2aa198 } /* Literal.String.Delimiter */\nbody .sd { color: #586e75 } /* Literal.String.Doc */\nbody .s2 { color: #2aa198 } /* Literal.String.Double */\nbody .se { color: #2aa198 } /* Literal.String.Escape */\nbody .sh { color: #2aa198 } /* Literal.String.Heredoc */\nbody .si { color: #2aa198 } /* Literal.String.Interpol */\nbody .sx { color: #2aa198 } /* Literal.String.Other */\nbody .sr { color: #cb4b16 } /* Literal.String.Regex */\nbody .s1 { color: #2aa198 } /* Literal.String.Single */\nbody .ss { color: #2aa198 } /* Literal.String.Symbol */\nbody .bp { color: #268bd2 } /* Name.Builtin.Pseudo */\nbody .fm { color: #268bd2 } /* Name.Function.Magic */\nbody .vc { color: #268bd2 } /* Name.Variable.Class */\nbody .vg { color: #268bd2 } /* Name.Variable.Global */\nbody .vi { color: #268bd2 } /* Name.Variable.Instance */\nbody .vm { color: #268bd2 } /* Name.Variable.Magic */\nbody .il { color: #2aa198 } /* Literal.Number.Integer.Long */\n\n  </style>\n</head>\n<body>\n<h2></h2>\n\n<div class=\"highlight\"><pre><span></span><span class=\"k\">PREFIX</span> <span class=\"nn\">cb</span><span class=\"p\">:</span> <span class=\"nl\">&lt;https://example.org/ontology/celestial_body/&gt;</span>\n<span class=\"k\">PREFIX</span> <span class=\"nn\">dbo</span><span class=\"p\">:</span> <span class=\"nl\">&lt;https://dbpedia.org/ontology/&gt;</span>\n<span class=\"k\">PREFIX</span> <span class=\"nn\">dbp</span><span class=\"p\">:</span> <span class=\"nl\">&lt;https://dbpedia.org/property/&gt;</span>\n<span class=\"k\">PREFIX</span> <span class=\"nn\">dbr</span><span class=\"p\">:</span> <span class=\"nl\">&lt;https://dbpedia.org/page/&gt;</span>\n<span class=\"k\">PREFIX</span> <span class=\"nn\">dcterms</span><span class=\"p\">:</span> <span class=\"nl\">&lt;http://purl.org/dc/terms/&gt;</span>\n<span class=\"k\">PREFIX</span> <span class=\"nn\">disc</span><span class=\"p\">:</span> <span class=\"nl\">&lt;https://example.org/ontology/discovery/&gt;</span>\n<span class=\"k\">PREFIX</span> <span class=\"nn\">ex</span><span class=\"p\">:</span> <span class=\"nl\">&lt;https://example.org/ontology/&gt;</span>\n<span class=\"k\">PREFIX</span> <span class=\"nn\">exo</span><span class=\"p\">:</span> <span class=\"nl\">&lt;https://example.org/ontology/celestial_body/exoplanet/&gt;</span>\n<span class=\"k\">PREFIX</span> <span class=\"nn\">oum</span><span class=\"p\">:</span> <span class=\"nl\">&lt;http://www.ontology-of-units-of-measure.org/resource/om-2/&gt;</span>\n<span class=\"k\">PREFIX</span> <span class=\"nn\">owl</span><span class=\"p\">:</span> <span class=\"nl\">&lt;http://www.w3.org/2002/07/owl#&gt;</span>\n<span class=\"k\">PREFIX</span> <span class=\"nn\">pl_sys</span><span class=\"p\">:</span> <span class=\"nl\">&lt;https://example.org/ontology/planetary_system/&gt;</span>\n<span class=\"k\">PREFIX</span> <span class=\"nn\">rdf</span><span class=\"p\">:</span> <span class=\"nl\">&lt;http://www.w3.org/1999/02/22-rdf-syntax-ns#&gt;</span>\n<span class=\"k\">PREFIX</span> <span class=\"nn\">rdfs</span><span class=\"p\">:</span> <span class=\"nl\">&lt;http://www.w3.org/2000/01/rdf-schema#&gt;</span>\n<span class=\"k\">PREFIX</span> <span class=\"nn\">schema</span><span class=\"p\">:</span> <span class=\"nl\">&lt;https://schema.org/&gt;</span>\n<span class=\"k\">PREFIX</span> <span class=\"nn\">skos</span><span class=\"p\">:</span> <span class=\"nl\">&lt;http://www.w3.org/2004/02/skos/core#&gt;</span>\n<span class=\"k\">PREFIX</span> <span class=\"nn\">star</span><span class=\"p\">:</span> <span class=\"nl\">&lt;https://example.org/ontology/celestial_body/star/&gt;</span>\n<span class=\"k\">PREFIX</span> <span class=\"nn\">time</span><span class=\"p\">:</span> <span class=\"nl\">&lt;http://www.w3.org/2006/time#&gt;</span>\n<span class=\"k\">PREFIX</span> <span class=\"nn\">ucum</span><span class=\"p\">:</span> <span class=\"nl\">&lt;https://w3id.org/uom/&gt;</span>\n<span class=\"k\">PREFIX</span> <span class=\"nn\">unit</span><span class=\"p\">:</span> <span class=\"nl\">&lt;https://example.org/ontology/unit/&gt;</span>\n<span class=\"k\">PREFIX</span> <span class=\"nn\">xsd</span><span class=\"p\">:</span> <span class=\"nl\">&lt;http://www.w3.org/2001/XMLSchema#&gt;</span>\n\n<span class=\"k\">SELECT</span> <span class=\"nv\">?resource</span> \n<span class=\"k\">WHERE</span><span class=\"p\">{</span>  \n    <span class=\"nv\">?resource</span> <span class=\"nv\">?property</span> <span class=\"s\">&quot;&quot;</span> \n<span class=\"p\">}</span>\n</pre></div>\n</body>\n</html>\n"
     },
     "metadata": {},
     "output_type": "display_data"
    },
    {
     "data": {
      "text/plain": "<IPython.core.display.HTML object>",
      "text/html": "<table border=\"1\" class=\"dataframe\">\n  <thead>\n    <tr style=\"text-align: right;\">\n      <th></th>\n    </tr>\n  </thead>\n  <tbody>\n  </tbody>\n</table>"
     },
     "metadata": {},
     "output_type": "display_data"
    }
   ],
   "source": [
    "empty_string_query = prefixes + \"\"\"\n",
    "SELECT ?resource \n",
    "WHERE{  \n",
    "    ?resource ?property \"\" \n",
    "}\n",
    "\"\"\"\n",
    "\n",
    "run_query(ExoKG, empty_string_query)"
   ],
   "metadata": {
    "collapsed": false,
    "ExecuteTime": {
     "end_time": "2024-03-31T12:46:02.281548Z",
     "start_time": "2024-03-31T12:46:02.249241Z"
    }
   },
   "execution_count": 9
  },
  {
   "cell_type": "markdown",
   "source": [
    "5. Check domain predicate range"
   ],
   "metadata": {
    "collapsed": false
   }
  },
  {
   "cell_type": "code",
   "outputs": [
    {
     "data": {
      "text/plain": "<IPython.core.display.HTML object>",
      "text/html": "<!DOCTYPE html PUBLIC \"-//W3C//DTD HTML 4.01//EN\"\n   \"http://www.w3.org/TR/html4/strict.dtd\">\n<!--\ngenerated by Pygments <https://pygments.org/>\nCopyright 2006-2023 by the Pygments team.\nLicensed under the BSD license, see LICENSE for details.\n-->\n<html>\n<head>\n  <title></title>\n  <meta http-equiv=\"content-type\" content=\"text/html; charset=None\">\n  <style type=\"text/css\">\n/*\ngenerated by Pygments <https://pygments.org/>\nCopyright 2006-2023 by the Pygments team.\nLicensed under the BSD license, see LICENSE for details.\n*/\npre { line-height: 125%; }\ntd.linenos .normal { color: #586e75; background-color: #073642; padding-left: 5px; padding-right: 5px; }\nspan.linenos { color: #586e75; background-color: #073642; padding-left: 5px; padding-right: 5px; }\ntd.linenos .special { color: #000000; background-color: #ffffc0; padding-left: 5px; padding-right: 5px; }\nspan.linenos.special { color: #000000; background-color: #ffffc0; padding-left: 5px; padding-right: 5px; }\nbody .hll { background-color: #073642 }\nbody .c { color: #586e75; font-style: italic } /* Comment */\nbody .err { color: #839496; background-color: #dc322f } /* Error */\nbody .esc { color: #839496 } /* Escape */\nbody .g { color: #839496 } /* Generic */\nbody .k { color: #859900 } /* Keyword */\nbody .l { color: #839496 } /* Literal */\nbody .n { color: #839496 } /* Name */\nbody .o { color: #586e75 } /* Operator */\nbody .x { color: #839496 } /* Other */\nbody .p { color: #839496 } /* Punctuation */\nbody .ch { color: #586e75; font-style: italic } /* Comment.Hashbang */\nbody .cm { color: #586e75; font-style: italic } /* Comment.Multiline */\nbody .cp { color: #d33682 } /* Comment.Preproc */\nbody .cpf { color: #586e75 } /* Comment.PreprocFile */\nbody .c1 { color: #586e75; font-style: italic } /* Comment.Single */\nbody .cs { color: #586e75; font-style: italic } /* Comment.Special */\nbody .gd { color: #dc322f } /* Generic.Deleted */\nbody .ge { color: #839496; font-style: italic } /* Generic.Emph */\nbody .gr { color: #dc322f } /* Generic.Error */\nbody .gh { color: #839496; font-weight: bold } /* Generic.Heading */\nbody .gi { color: #859900 } /* Generic.Inserted */\nbody .go { color: #839496 } /* Generic.Output */\nbody .gp { color: #268bd2; font-weight: bold } /* Generic.Prompt */\nbody .gs { color: #839496; font-weight: bold } /* Generic.Strong */\nbody .gu { color: #839496; text-decoration: underline } /* Generic.Subheading */\nbody .gt { color: #268bd2 } /* Generic.Traceback */\nbody .kc { color: #2aa198 } /* Keyword.Constant */\nbody .kd { color: #2aa198 } /* Keyword.Declaration */\nbody .kn { color: #cb4b16 } /* Keyword.Namespace */\nbody .kp { color: #859900 } /* Keyword.Pseudo */\nbody .kr { color: #859900 } /* Keyword.Reserved */\nbody .kt { color: #b58900 } /* Keyword.Type */\nbody .ld { color: #839496 } /* Literal.Date */\nbody .m { color: #2aa198 } /* Literal.Number */\nbody .s { color: #2aa198 } /* Literal.String */\nbody .na { color: #839496 } /* Name.Attribute */\nbody .nb { color: #268bd2 } /* Name.Builtin */\nbody .nc { color: #268bd2 } /* Name.Class */\nbody .no { color: #268bd2 } /* Name.Constant */\nbody .nd { color: #268bd2 } /* Name.Decorator */\nbody .ni { color: #268bd2 } /* Name.Entity */\nbody .ne { color: #268bd2 } /* Name.Exception */\nbody .nf { color: #268bd2 } /* Name.Function */\nbody .nl { color: #268bd2 } /* Name.Label */\nbody .nn { color: #268bd2 } /* Name.Namespace */\nbody .nx { color: #839496 } /* Name.Other */\nbody .py { color: #839496 } /* Name.Property */\nbody .nt { color: #268bd2 } /* Name.Tag */\nbody .nv { color: #268bd2 } /* Name.Variable */\nbody .ow { color: #859900 } /* Operator.Word */\nbody .pm { color: #839496 } /* Punctuation.Marker */\nbody .w { color: #839496 } /* Text.Whitespace */\nbody .mb { color: #2aa198 } /* Literal.Number.Bin */\nbody .mf { color: #2aa198 } /* Literal.Number.Float */\nbody .mh { color: #2aa198 } /* Literal.Number.Hex */\nbody .mi { color: #2aa198 } /* Literal.Number.Integer */\nbody .mo { color: #2aa198 } /* Literal.Number.Oct */\nbody .sa { color: #2aa198 } /* Literal.String.Affix */\nbody .sb { color: #2aa198 } /* Literal.String.Backtick */\nbody .sc { color: #2aa198 } /* Literal.String.Char */\nbody .dl { color: #2aa198 } /* Literal.String.Delimiter */\nbody .sd { color: #586e75 } /* Literal.String.Doc */\nbody .s2 { color: #2aa198 } /* Literal.String.Double */\nbody .se { color: #2aa198 } /* Literal.String.Escape */\nbody .sh { color: #2aa198 } /* Literal.String.Heredoc */\nbody .si { color: #2aa198 } /* Literal.String.Interpol */\nbody .sx { color: #2aa198 } /* Literal.String.Other */\nbody .sr { color: #cb4b16 } /* Literal.String.Regex */\nbody .s1 { color: #2aa198 } /* Literal.String.Single */\nbody .ss { color: #2aa198 } /* Literal.String.Symbol */\nbody .bp { color: #268bd2 } /* Name.Builtin.Pseudo */\nbody .fm { color: #268bd2 } /* Name.Function.Magic */\nbody .vc { color: #268bd2 } /* Name.Variable.Class */\nbody .vg { color: #268bd2 } /* Name.Variable.Global */\nbody .vi { color: #268bd2 } /* Name.Variable.Instance */\nbody .vm { color: #268bd2 } /* Name.Variable.Magic */\nbody .il { color: #2aa198 } /* Literal.Number.Integer.Long */\n\n  </style>\n</head>\n<body>\n<h2></h2>\n\n<div class=\"highlight\"><pre><span></span><span class=\"k\">PREFIX</span> <span class=\"nn\">cb</span><span class=\"p\">:</span> <span class=\"nl\">&lt;https://example.org/ontology/celestial_body/&gt;</span>\n<span class=\"k\">PREFIX</span> <span class=\"nn\">dbo</span><span class=\"p\">:</span> <span class=\"nl\">&lt;https://dbpedia.org/ontology/&gt;</span>\n<span class=\"k\">PREFIX</span> <span class=\"nn\">dbp</span><span class=\"p\">:</span> <span class=\"nl\">&lt;https://dbpedia.org/property/&gt;</span>\n<span class=\"k\">PREFIX</span> <span class=\"nn\">dbr</span><span class=\"p\">:</span> <span class=\"nl\">&lt;https://dbpedia.org/page/&gt;</span>\n<span class=\"k\">PREFIX</span> <span class=\"nn\">dcterms</span><span class=\"p\">:</span> <span class=\"nl\">&lt;http://purl.org/dc/terms/&gt;</span>\n<span class=\"k\">PREFIX</span> <span class=\"nn\">disc</span><span class=\"p\">:</span> <span class=\"nl\">&lt;https://example.org/ontology/discovery/&gt;</span>\n<span class=\"k\">PREFIX</span> <span class=\"nn\">ex</span><span class=\"p\">:</span> <span class=\"nl\">&lt;https://example.org/ontology/&gt;</span>\n<span class=\"k\">PREFIX</span> <span class=\"nn\">exo</span><span class=\"p\">:</span> <span class=\"nl\">&lt;https://example.org/ontology/celestial_body/exoplanet/&gt;</span>\n<span class=\"k\">PREFIX</span> <span class=\"nn\">oum</span><span class=\"p\">:</span> <span class=\"nl\">&lt;http://www.ontology-of-units-of-measure.org/resource/om-2/&gt;</span>\n<span class=\"k\">PREFIX</span> <span class=\"nn\">owl</span><span class=\"p\">:</span> <span class=\"nl\">&lt;http://www.w3.org/2002/07/owl#&gt;</span>\n<span class=\"k\">PREFIX</span> <span class=\"nn\">pl_sys</span><span class=\"p\">:</span> <span class=\"nl\">&lt;https://example.org/ontology/planetary_system/&gt;</span>\n<span class=\"k\">PREFIX</span> <span class=\"nn\">rdf</span><span class=\"p\">:</span> <span class=\"nl\">&lt;http://www.w3.org/1999/02/22-rdf-syntax-ns#&gt;</span>\n<span class=\"k\">PREFIX</span> <span class=\"nn\">rdfs</span><span class=\"p\">:</span> <span class=\"nl\">&lt;http://www.w3.org/2000/01/rdf-schema#&gt;</span>\n<span class=\"k\">PREFIX</span> <span class=\"nn\">schema</span><span class=\"p\">:</span> <span class=\"nl\">&lt;https://schema.org/&gt;</span>\n<span class=\"k\">PREFIX</span> <span class=\"nn\">skos</span><span class=\"p\">:</span> <span class=\"nl\">&lt;http://www.w3.org/2004/02/skos/core#&gt;</span>\n<span class=\"k\">PREFIX</span> <span class=\"nn\">star</span><span class=\"p\">:</span> <span class=\"nl\">&lt;https://example.org/ontology/celestial_body/star/&gt;</span>\n<span class=\"k\">PREFIX</span> <span class=\"nn\">time</span><span class=\"p\">:</span> <span class=\"nl\">&lt;http://www.w3.org/2006/time#&gt;</span>\n<span class=\"k\">PREFIX</span> <span class=\"nn\">ucum</span><span class=\"p\">:</span> <span class=\"nl\">&lt;https://w3id.org/uom/&gt;</span>\n<span class=\"k\">PREFIX</span> <span class=\"nn\">unit</span><span class=\"p\">:</span> <span class=\"nl\">&lt;https://example.org/ontology/unit/&gt;</span>\n<span class=\"k\">PREFIX</span> <span class=\"nn\">xsd</span><span class=\"p\">:</span> <span class=\"nl\">&lt;http://www.w3.org/2001/XMLSchema#&gt;</span>\n\n<span class=\"k\">SELECT</span> <span class=\"nv\">?s</span> <span class=\"nv\">?p</span> <span class=\"nv\">?o</span> \n<span class=\"k\">WHERE</span> <span class=\"p\">{</span> \n    <span class=\"nv\">?s</span> <span class=\"nv\">?p</span> <span class=\"nv\">?o</span> <span class=\"p\">.</span>\n    <span class=\"k\">FILTER</span> <span class=\"nf\">NOT EXISTS</span> <span class=\"p\">{</span> \n        <span class=\"nv\">?s</span> <span class=\"nn\">rdf</span><span class=\"p\">:</span><span class=\"nt\">type</span><span class=\"o\">/</span><span class=\"nn\">rdfs</span><span class=\"p\">:</span><span class=\"nt\">subClassOf</span><span class=\"o\">*</span> <span class=\"nv\">?domain</span> <span class=\"p\">.</span> \n        <span class=\"nv\">?p</span> <span class=\"nn\">rdf</span><span class=\"p\">:</span><span class=\"nt\">type</span><span class=\"o\">/</span><span class=\"nn\">rdfs</span><span class=\"p\">:</span><span class=\"nt\">subPropertyOf</span><span class=\"o\">*</span> <span class=\"nv\">?predicate</span> <span class=\"p\">.</span> \n        <span class=\"nv\">?o</span> <span class=\"nn\">rdf</span><span class=\"p\">:</span><span class=\"nt\">type</span><span class=\"o\">/</span><span class=\"nn\">rdfs</span><span class=\"p\">:</span><span class=\"nt\">subClassOf</span><span class=\"o\">*</span> <span class=\"nv\">?range</span> \n    <span class=\"p\">}</span> \n<span class=\"p\">}</span>\n</pre></div>\n</body>\n</html>\n"
     },
     "metadata": {},
     "output_type": "display_data"
    }
   ],
   "source": [
    "no_domain_predicate_range_query = prefixes + \"\"\"\n",
    "SELECT ?s ?p ?o \n",
    "WHERE { \n",
    "    ?s ?p ?o .\n",
    "    FILTER NOT EXISTS { \n",
    "        ?s rdf:type/rdfs:subClassOf* ?domain . \n",
    "        ?p rdf:type/rdfs:subPropertyOf* ?predicate . \n",
    "        ?o rdf:type/rdfs:subClassOf* ?range \n",
    "    } \n",
    "}\n",
    "\"\"\"\n",
    "\n",
    "run_query(ExoKG, no_domain_predicate_range_query)"
   ],
   "metadata": {
    "collapsed": false,
    "ExecuteTime": {
     "end_time": "2024-03-31T12:46:31.189162Z",
     "start_time": "2024-03-31T12:46:02.263032Z"
    }
   },
   "execution_count": 10
  },
  {
   "cell_type": "markdown",
   "source": [
    "6. Multiple values"
   ],
   "metadata": {
    "collapsed": false
   }
  },
  {
   "cell_type": "code",
   "outputs": [],
   "source": [
    "multiple_values_query = \"\"\"\n",
    "SELECT ?observation (COUNT(?value) as ?num_values)\n",
    "WHERE {\n",
    "    ?observation schema:value ?value .\n",
    "}\n",
    "GROUP BY ?observation\n",
    "HAVING (?num_values > 1)\n",
    "\"\"\"\n",
    "\n",
    "run_query(ExoKG, multiple_values_query)"
   ],
   "metadata": {
    "collapsed": false,
    "is_executing": true
   },
   "execution_count": null
  },
  {
   "cell_type": "markdown",
   "source": [
    "#### 5. Queries"
   ],
   "metadata": {
    "collapsed": false
   }
  },
  {
   "cell_type": "markdown",
   "source": [
    "1. **RQ1**: Which planetary system hosts the largest number of exoplanets?"
   ],
   "metadata": {
    "collapsed": false
   }
  },
  {
   "cell_type": "code",
   "execution_count": null,
   "metadata": {
    "id": "8z0XtdvE0UJh",
    "is_executing": true
   },
   "outputs": [],
   "source": [
    "rq1_query = prefixes + \"\"\"\n",
    "SELECT ?ps_label ?n_planets\n",
    "WHERE {\n",
    "    ?ps a ex:Planetary_system ;\n",
    "        rdfs:label ?ps_label ;\n",
    "        pl_sys:number_of_planets ?n_planets .\n",
    "} \n",
    "ORDER BY DESC(?n_planets)\n",
    "LIMIT 1\n",
    "\"\"\"\n",
    "\n",
    "run_query(ExoKG, rq1_query)"
   ]
  },
  {
   "cell_type": "markdown",
   "source": [
    "2. **RQ2**: Which facility has discovered the most exoplanets?"
   ],
   "metadata": {
    "collapsed": false
   }
  },
  {
   "cell_type": "code",
   "outputs": [],
   "source": [
    "rq2_query = prefixes + \"\"\"\n",
    "SELECT ?facility (COUNT(?facility) AS ?count)\n",
    "WHERE {\n",
    "    ?discovery a schema:Observation ;\n",
    "        ex:place ?facility .\n",
    "}\n",
    "GROUP BY ?facility\n",
    "ORDER BY DESC(?count)\n",
    "LIMIT 1\n",
    "\"\"\"\n",
    "\n",
    "run_query(ExoKG, rq2_query)"
   ],
   "metadata": {
    "collapsed": false,
    "is_executing": true
   },
   "execution_count": null
  },
  {
   "cell_type": "markdown",
   "source": [
    "3. **RQ3**: What are the key characteristics of exoplanets?"
   ],
   "metadata": {
    "collapsed": false
   }
  },
  {
   "cell_type": "code",
   "outputs": [],
   "source": [
    "rq3_query = prefixes + \"\"\"\n",
    "SELECT \n",
    "    ?average_orbital_period\n",
    "    ?average_longest_radius\n",
    "    ?average_radius\n",
    "    ?average_mass\n",
    "    ?average_density\n",
    "    ?avg_orbital_eccentricity \n",
    "    ?average_insolation_flux \n",
    "    ?average_equilibrium_temperature \n",
    "    ?average_inclination\n",
    "    ?average_obliquity\n",
    "    ?average_ratio_planet_stellar_radius\n",
    "WHERE {\n",
    "    {\n",
    "        SELECT (AVG(?orbital_period_value) AS ?average_orbital_period)\n",
    "        WHERE {\n",
    "            ?exoplanet a ex:Exoplanet .\n",
    "            OPTIONAL { \n",
    "                ?exoplanet exo:orbital_period ?orbital_period .\n",
    "                ?orbital_period schema:value ?orbital_period_value .\n",
    "            }\n",
    "            FILTER(BOUND(?orbital_period_value))\n",
    "        }\n",
    "    }\n",
    "    {\n",
    "        SELECT (AVG(?longest_radius_value) AS ?average_longest_radius)\n",
    "        WHERE {\n",
    "            ?exoplanet a ex:Exoplanet .\n",
    "            OPTIONAL { \n",
    "                ?exoplanet exo:longest_radius ?longest_radius .\n",
    "                ?longest_radius schema:value ?longest_radius_value .\n",
    "            }\n",
    "            FILTER(BOUND(?longest_radius_value))\n",
    "        }\n",
    "    }\n",
    "    {\n",
    "        SELECT (AVG(?radius_value) AS ?average_radius)\n",
    "        WHERE {\n",
    "            ?exoplanet a ex:Exoplanet .\n",
    "            OPTIONAL { \n",
    "                ?exoplanet cb:radius ?radius .\n",
    "                ?radius schema:value ?radius_value ;\n",
    "                    schema:unitCode unit:kilometer .\n",
    "            }\n",
    "            FILTER(BOUND(?radius_value))\n",
    "        }\n",
    "    }\n",
    "    {\n",
    "        SELECT (AVG(?mass_value) AS ?average_mass)\n",
    "        WHERE {\n",
    "            ?exoplanet a ex:Exoplanet .\n",
    "            OPTIONAL { \n",
    "                ?exoplanet cb:mass ?mass .\n",
    "                ?mass schema:value ?mass_value ;\n",
    "                    schema:unitCode unit:kilogram .\n",
    "            }\n",
    "            FILTER(BOUND(?mass_value))\n",
    "        }\n",
    "    }\n",
    "    {\n",
    "        SELECT (AVG(?density_value) AS ?average_density)\n",
    "        WHERE {\n",
    "            ?exoplanet a ex:Exoplanet .\n",
    "            OPTIONAL { \n",
    "                ?exoplanet cb:density ?density .\n",
    "                ?density schema:value ?density_value .\n",
    "            }\n",
    "            FILTER(BOUND(?density_value))\n",
    "        }\n",
    "    }\n",
    "    {\n",
    "        SELECT (AVG(?orbital_eccentricity_value) AS ?avg_orbital_eccentricity)\n",
    "        WHERE {\n",
    "            ?exoplanet a ex:Exoplanet .\n",
    "            OPTIONAL { \n",
    "                ?exoplanet exo:orbital_eccentricity ?orbital_eccentricity .\n",
    "                ?orbital_eccentricity schema:value ?orbital_eccentricity_value .\n",
    "            }\n",
    "            FILTER(BOUND(?orbital_eccentricity_value))\n",
    "        }\n",
    "    }\n",
    "    {\n",
    "    SELECT (AVG(?insolation_flux_value) AS ?average_insolation_flux)\n",
    "        WHERE {\n",
    "            ?exoplanet a ex:Exoplanet .\n",
    "            OPTIONAL { \n",
    "                ?exoplanet exo:insolation_flux ?insolation_flux .\n",
    "                ?insolation_flux schema:value ?insolation_flux_value ;\n",
    "                    schema:unitCode unit:watt_per_square_meter .\n",
    "            }\n",
    "            FILTER(BOUND(?insolation_flux_value))\n",
    "        }\n",
    "    }\n",
    "    {\n",
    "        SELECT (AVG(?equilibrium_temperature_value) AS ?average_equilibrium_temperature)\n",
    "        WHERE {\n",
    "            ?exoplanet a ex:Exoplanet .\n",
    "            OPTIONAL { \n",
    "                ?exoplanet exo:equilibrium_temperature ?equilibrium_temperature .\n",
    "                ?equilibrium_temperature schema:value ?equilibrium_temperature_value .\n",
    "            }\n",
    "            FILTER(BOUND(?equilibrium_temperature_value))\n",
    "        }\n",
    "    }\n",
    "    {\n",
    "        SELECT (AVG(?inclination_value) AS ?average_inclination)\n",
    "        WHERE {\n",
    "            ?exoplanet a ex:Exoplanet .\n",
    "            OPTIONAL { \n",
    "                ?exoplanet exo:inclination ?inclination .\n",
    "                ?inclination schema:value ?inclination_value .\n",
    "            }\n",
    "            FILTER(BOUND(?inclination_value))\n",
    "        }\n",
    "    }\n",
    "    {\n",
    "        SELECT (AVG(?obliquity_value) AS ?average_obliquity)\n",
    "        WHERE {\n",
    "            ?exoplanet a ex:Exoplanet .\n",
    "            OPTIONAL { \n",
    "                ?exoplanet exo:obliquity ?obliquity .\n",
    "                ?obliquity schema:value ?obliquity_value .\n",
    "            }\n",
    "            FILTER(BOUND(?obliquity_value))\n",
    "        }\n",
    "    }\n",
    "    {\n",
    "        SELECT (AVG(?ratio_planet_stellar_radius_value) AS ?average_ratio_planet_stellar_radius)\n",
    "        WHERE {\n",
    "            ?exoplanet a ex:Exoplanet .\n",
    "            OPTIONAL { \n",
    "                ?exoplanet exo:ratio_planet_stellar_radius ?ratio .\n",
    "                ?ratio schema:value ?ratio_planet_stellar_radius_value .\n",
    "            }\n",
    "            FILTER(BOUND(?ratio_planet_stellar_radius_value))\n",
    "        }\n",
    "    }\n",
    "}\n",
    "\"\"\"\n",
    "\n",
    "run_query(ExoKG, rq3_query)"
   ],
   "metadata": {
    "collapsed": false,
    "is_executing": true
   },
   "execution_count": null
  },
  {
   "cell_type": "markdown",
   "source": [
    "4. **RQ4**: Which exoplanet most closely resembles Earth?"
   ],
   "metadata": {
    "collapsed": false
   }
  },
  {
   "cell_type": "code",
   "outputs": [],
   "source": [
    "rq4_query = prefixes + \"\"\"\n",
    "SELECT ?exoplanet_label ?difference_orbital_period_relative_to_Earth ?star_label ?star_mass_value ?star_radius_value\n",
    "WHERE {\n",
    "    ?exoplanet a ex:Exoplanet ;\n",
    "        rdfs:label ?exoplanet_label ;\n",
    "        exo:orbital_period ?orbital_period ;\n",
    "        exo:orbits_around ?star .\n",
    "    ?orbital_period schema:value ?orbital_period_value . \n",
    "    ?star a ex:Star ;\n",
    "        rdfs:label ?star_label ;\n",
    "        cb:mass ?star_mass ;\n",
    "        cb:radius ?star_radius ;\n",
    "        star:has_spectral_type ?spectral_type .\n",
    "    ?star_mass schema:unitCode unit:solar_mass ;\n",
    "        schema:value ?star_mass_value .\n",
    "    ?star_radius schema:unitCode unit:solar_radius ;\n",
    "        schema:value ?star_radius_value .\n",
    "    ?spectral_type a star:Spectral_type ;\n",
    "        rdfs:label ?spectral_type_label .\n",
    "    FILTER(CONTAINS(LCASE(?spectral_type_label), \"g2\"))\n",
    "    BIND(ABS(?orbital_period_value - 365) AS ?difference_orbital_period_relative_to_Earth)\n",
    "}\n",
    "ORDER BY ?difference_orbital_period_relative_to_Earth ?star_mass_value ?star_radius_value\n",
    "LIMIT 1\n",
    "\"\"\"\n",
    "\n",
    "run_query(ExoKG, rq4_query)"
   ],
   "metadata": {
    "collapsed": false,
    "is_executing": true
   },
   "execution_count": null
  }
 ],
 "metadata": {
  "colab": {
   "provenance": []
  },
  "kernelspec": {
   "display_name": "Python 3",
   "language": "python",
   "name": "python3"
  },
  "language_info": {
   "codemirror_mode": {
    "name": "ipython",
    "version": 3
   },
   "file_extension": ".py",
   "mimetype": "text/x-python",
   "name": "python",
   "nbconvert_exporter": "python",
   "pygments_lexer": "ipython3",
   "version": "3.10.12"
  }
 },
 "nbformat": 4,
 "nbformat_minor": 0
}
